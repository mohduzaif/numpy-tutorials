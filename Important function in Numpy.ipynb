{
 "cells": [
  {
   "cell_type": "markdown",
   "id": "15929852-11b2-481f-b566-98e3ac116044",
   "metadata": {},
   "source": [
    "## Numpy Tricks.\n",
    "- Some more important functions in numpy that are useful in analysis of data."
   ]
  },
  {
   "cell_type": "code",
   "execution_count": 1,
   "id": "be986632-99d5-4203-b2f2-94201af46191",
   "metadata": {},
   "outputs": [],
   "source": [
    "import numpy as np "
   ]
  },
  {
   "cell_type": "code",
   "execution_count": 9,
   "id": "bab6323e-f9d6-4175-b740-6724d53237d1",
   "metadata": {},
   "outputs": [],
   "source": [
    "# we have two array those are used in whole notebook. \n",
    "\n",
    "# 1D array. \n",
    "a = np.random.randint(1, 100, 20, dtype = np.int64)\n",
    "\n",
    "# 2D Array. \n",
    "b = np.random.randint(1, 100, 20).reshape(4, 5)"
   ]
  },
  {
   "cell_type": "markdown",
   "id": "ad99e43c-d123-4eca-b7dc-09e04c660523",
   "metadata": {},
   "source": [
    "### np.sort\n",
    "\n",
    "Return a sorted copy of a numpy array.\n",
    "\n",
    "https://numpy.org/doc/stable/reference/generated/numpy.sort.html"
   ]
  },
  {
   "cell_type": "code",
   "execution_count": 15,
   "id": "21940165-50c9-417f-ae52-2d4c528931c1",
   "metadata": {},
   "outputs": [
    {
     "data": {
      "text/plain": [
       "array([10, 11, 14, 20, 22, 22, 26, 35, 40, 51, 52, 59, 66, 72, 75, 77, 81,\n",
       "       94, 94, 94])"
      ]
     },
     "execution_count": 15,
     "metadata": {},
     "output_type": "execute_result"
    }
   ],
   "source": [
    "# sort one dimension array in ascending order. \n",
    "np.sort(a)"
   ]
  },
  {
   "cell_type": "code",
   "execution_count": 16,
   "id": "b736e4bd-61fa-42c5-9b60-7a3da61f6bd4",
   "metadata": {},
   "outputs": [
    {
     "data": {
      "text/plain": [
       "array([94, 94, 94, 81, 77, 75, 72, 66, 59, 52, 51, 40, 35, 26, 22, 22, 20,\n",
       "       14, 11, 10])"
      ]
     },
     "execution_count": 16,
     "metadata": {},
     "output_type": "execute_result"
    }
   ],
   "source": [
    "# sort one dimension array in decsending order. \n",
    "np.sort(a)[ : : -1]"
   ]
  },
  {
   "cell_type": "code",
   "execution_count": 24,
   "id": "eab448ab-5042-44ae-896b-878af6565aa2",
   "metadata": {},
   "outputs": [
    {
     "data": {
      "text/plain": [
       "array([[ 4, 12, 42, 74, 94],\n",
       "       [12, 42, 45, 55, 56],\n",
       "       [ 5,  9, 10, 78, 86],\n",
       "       [15, 24, 36, 47, 82]], dtype=int32)"
      ]
     },
     "execution_count": 24,
     "metadata": {},
     "output_type": "execute_result"
    }
   ],
   "source": [
    "# sort two dimension array in decsending order. \n",
    "# by default it sort the array row wise, but we can do it column wise by passing the axis argument in the sort function.\n",
    "np.sort(b)\n",
    "# np.sort(b, axis = 1)"
   ]
  },
  {
   "cell_type": "code",
   "execution_count": 25,
   "id": "8f604002-e039-420d-92b7-02dfc41327dd",
   "metadata": {},
   "outputs": [
    {
     "data": {
      "text/plain": [
       "array([[47,  5, 10,  4, 12],\n",
       "       [55, 42, 12,  9, 36],\n",
       "       [74, 82, 15, 24, 42],\n",
       "       [86, 94, 45, 56, 78]], dtype=int32)"
      ]
     },
     "execution_count": 25,
     "metadata": {},
     "output_type": "execute_result"
    }
   ],
   "source": [
    "# sorting column wise.\n",
    "np.sort(b, axis = 0)"
   ]
  },
  {
   "cell_type": "markdown",
   "id": "b851637b-8558-40bf-b563-c80bb241ba4a",
   "metadata": {},
   "source": [
    "### np.argsort \n",
    "- this function return the indices of the sorted array."
   ]
  },
  {
   "cell_type": "code",
   "execution_count": 5,
   "id": "c3d77a2a-8d22-41e3-93c4-4416420b46f8",
   "metadata": {},
   "outputs": [
    {
     "name": "stdout",
     "output_type": "stream",
     "text": [
      "[10 13  9 15 16 13 17 16 10 15]\n"
     ]
    },
    {
     "data": {
      "text/plain": [
       "array([2, 0, 8, 1, 5, 3, 9, 4, 7, 6])"
      ]
     },
     "execution_count": 5,
     "metadata": {},
     "output_type": "execute_result"
    }
   ],
   "source": [
    "import numpy as np \n",
    "arr = np.random.randint(1, 20, 10)\n",
    "print(arr)\n",
    "\n",
    "np.argsort(arr)"
   ]
  },
  {
   "cell_type": "markdown",
   "id": "2f840434-7d01-4885-b349-0880b01513d8",
   "metadata": {},
   "source": [
    "### np.append\n",
    "\n",
    "The numpy.append() appends values along the mentioned axis at the end of the array\n",
    "\n",
    "https://numpy.org/doc/stable/reference/generated/numpy.append.html"
   ]
  },
  {
   "cell_type": "code",
   "execution_count": 26,
   "id": "239b7d38-39a1-476a-8095-d1fe02567767",
   "metadata": {},
   "outputs": [
    {
     "data": {
      "text/plain": [
       "array([35, 59, 51, 94, 40, 10, 26, 75, 52, 72, 66, 20, 81, 77, 22, 14, 11,\n",
       "       94, 94, 22])"
      ]
     },
     "execution_count": 26,
     "metadata": {},
     "output_type": "execute_result"
    }
   ],
   "source": [
    "a"
   ]
  },
  {
   "cell_type": "code",
   "execution_count": 29,
   "id": "e61815bc-3098-44be-b853-ebc2756bf78c",
   "metadata": {},
   "outputs": [
    {
     "data": {
      "text/plain": [
       "array([ 35,  59,  51,  94,  40,  10,  26,  75,  52,  72,  66,  20,  81,\n",
       "        77,  22,  14,  11,  94,  94,  22, 200])"
      ]
     },
     "execution_count": 29,
     "metadata": {},
     "output_type": "execute_result"
    }
   ],
   "source": [
    "# append the value at the last of the array in 1D array.\n",
    "np.append(a, 200)"
   ]
  },
  {
   "cell_type": "code",
   "execution_count": 30,
   "id": "df053f50-7624-4cc1-b322-463762dff5d7",
   "metadata": {},
   "outputs": [
    {
     "data": {
      "text/plain": [
       "array([[74, 94, 12,  4, 42],\n",
       "       [55, 42, 45, 56, 12],\n",
       "       [86,  5, 10,  9, 78],\n",
       "       [47, 82, 15, 24, 36]], dtype=int32)"
      ]
     },
     "execution_count": 30,
     "metadata": {},
     "output_type": "execute_result"
    }
   ],
   "source": [
    "b"
   ]
  },
  {
   "cell_type": "code",
   "execution_count": 58,
   "id": "3ff557f7-e420-4502-bfe5-0ba581814863",
   "metadata": {},
   "outputs": [
    {
     "data": {
      "text/plain": [
       "array([[74.        , 94.        , 12.        ,  4.        , 42.        ,\n",
       "         0.14669871],\n",
       "       [55.        , 42.        , 45.        , 56.        , 12.        ,\n",
       "         0.49814273],\n",
       "       [86.        ,  5.        , 10.        ,  9.        , 78.        ,\n",
       "         0.28503553],\n",
       "       [47.        , 82.        , 15.        , 24.        , 36.        ,\n",
       "         0.89380935]])"
      ]
     },
     "execution_count": 58,
     "metadata": {},
     "output_type": "execute_result"
    }
   ],
   "source": [
    "temp = np.random.random((b.shape[0], 1))\n",
    "# print(temp)\n",
    "\n",
    "x = np.append(b, temp, axis = 1)\n",
    "x"
   ]
  },
  {
   "cell_type": "markdown",
   "id": "5e9a1e54-8c61-4242-9504-8f946805505b",
   "metadata": {},
   "source": [
    "### np.concatenate\n",
    "\n",
    "- numpy.concatenate() function concatenate a sequence of arrays along an existing axis.\n",
    "- It is an alternate of stacking.\n",
    "\n",
    "https://numpy.org/doc/stable/reference/generated/numpy.concatenate.html"
   ]
  },
  {
   "cell_type": "code",
   "execution_count": 82,
   "id": "9071cf4a-c7c5-4992-9b24-23f39324b0b8",
   "metadata": {},
   "outputs": [
    {
     "data": {
      "text/plain": [
       "array([35, 59, 51, 94, 40, 10, 26, 75, 52, 72, 66, 20, 81, 77, 22, 14, 11,\n",
       "       94, 94, 22, 34, 15, 43, 17, 47])"
      ]
     },
     "execution_count": 82,
     "metadata": {},
     "output_type": "execute_result"
    }
   ],
   "source": [
    "# one dim array.\n",
    "\n",
    "arr = np.random.randint(1, 50, 5)\n",
    "np.concatenate((a, arr))"
   ]
  },
  {
   "cell_type": "code",
   "execution_count": 84,
   "id": "bf0df1d8-0ecc-468c-a496-3ef45c54aeb0",
   "metadata": {},
   "outputs": [],
   "source": [
    "# for 2D array. \n",
    "\n",
    "arr1 = np.arange(0, 12).reshape(3, 4)\n",
    "arr2 = np.arange(20, 32).reshape(3, 4)"
   ]
  },
  {
   "cell_type": "code",
   "execution_count": 85,
   "id": "1f325354-d357-4bfe-a6fd-9003663d6600",
   "metadata": {},
   "outputs": [
    {
     "data": {
      "text/plain": [
       "array([[ 0,  1,  2,  3],\n",
       "       [ 4,  5,  6,  7],\n",
       "       [ 8,  9, 10, 11],\n",
       "       [20, 21, 22, 23],\n",
       "       [24, 25, 26, 27],\n",
       "       [28, 29, 30, 31]])"
      ]
     },
     "execution_count": 85,
     "metadata": {},
     "output_type": "execute_result"
    }
   ],
   "source": [
    "# axis 0 means row wise concatination. \n",
    "np.concatenate((arr1, arr2), axis = 0)"
   ]
  },
  {
   "cell_type": "code",
   "execution_count": 86,
   "id": "6ad4ab53-f39e-4e40-a0c3-4b74d57f62de",
   "metadata": {},
   "outputs": [
    {
     "data": {
      "text/plain": [
       "array([[ 0,  1,  2,  3, 20, 21, 22, 23],\n",
       "       [ 4,  5,  6,  7, 24, 25, 26, 27],\n",
       "       [ 8,  9, 10, 11, 28, 29, 30, 31]])"
      ]
     },
     "execution_count": 86,
     "metadata": {},
     "output_type": "execute_result"
    }
   ],
   "source": [
    "# axis 1 means column wise concatination. \n",
    "np.concatenate((arr1, arr2), axis = 1)"
   ]
  },
  {
   "cell_type": "markdown",
   "id": "1086206c-3d31-4479-89e8-965592c78050",
   "metadata": {},
   "source": [
    "### np.unique\n",
    "\n",
    "With the help of np.unique() method, we can get the unique values from an array given as parameter in np.unique() method.\n",
    "\n",
    "https://numpy.org/doc/stable/reference/generated/numpy.unique.html/"
   ]
  },
  {
   "cell_type": "code",
   "execution_count": 94,
   "id": "bddbb115-ae84-47d7-8e02-04e65ceb4bb1",
   "metadata": {},
   "outputs": [
    {
     "data": {
      "text/plain": [
       "array([ 0,  1,  2,  3,  4,  6,  7,  9, 45])"
      ]
     },
     "execution_count": 94,
     "metadata": {},
     "output_type": "execute_result"
    }
   ],
   "source": [
    "# from 1D array\n",
    "arr = np.array([1, 2, 2, 2, 2, 3, 3, 3, 4, 4, 4, 45, 45, 6, 6, 6, 7, 7, 7, 9, 9, 0])\n",
    "np.unique(arr)"
   ]
  },
  {
   "cell_type": "code",
   "execution_count": 95,
   "id": "4ca5fbb3-3d21-4219-8e48-2fb615da92a9",
   "metadata": {},
   "outputs": [
    {
     "data": {
      "text/plain": [
       "array([1, 2, 3])"
      ]
     },
     "execution_count": 95,
     "metadata": {},
     "output_type": "execute_result"
    }
   ],
   "source": [
    "# from 2D array. \n",
    "arr = np.array([[1, 1, 1], [2, 2, 2], [1, 2, 3]])\n",
    "np.unique(arr)"
   ]
  },
  {
   "cell_type": "markdown",
   "id": "4db1fee3-9e26-4d91-bce3-ddd5576c37bd",
   "metadata": {},
   "source": [
    "### np.expand_dims\n",
    "\n",
    "With the help of Numpy.expand_dims() method, we can get the expanded dimensions of an array\n",
    "\n",
    "https://numpy.org/doc/stable/reference/generated/numpy.expand_dims.html"
   ]
  },
  {
   "cell_type": "code",
   "execution_count": 99,
   "id": "85691390-3746-4d02-89c7-d6d1b6fa7347",
   "metadata": {},
   "outputs": [
    {
     "data": {
      "text/plain": [
       "(20,)"
      ]
     },
     "execution_count": 99,
     "metadata": {},
     "output_type": "execute_result"
    }
   ],
   "source": [
    "a.shape"
   ]
  },
  {
   "cell_type": "code",
   "execution_count": 106,
   "id": "6dbc0083-88d2-46f6-851f-1954f897b261",
   "metadata": {},
   "outputs": [
    {
     "data": {
      "text/plain": [
       "(20, 1)"
      ]
     },
     "execution_count": 106,
     "metadata": {},
     "output_type": "execute_result"
    }
   ],
   "source": [
    "row_wise_expand = np.expand_dims(a, axis = 0)\n",
    "column_wise_expand = np.expand_dims(a, axis = 1)\n",
    "\n",
    "\n",
    "row_wise_expand.shape\n",
    "column_wise_expand.shape"
   ]
  },
  {
   "cell_type": "markdown",
   "id": "94800481-16f4-481e-9bb9-47e0904a3492",
   "metadata": {},
   "source": [
    "### np.where\n",
    "\n",
    "- The numpy.where() function returns the indices of elements in an input array where the given condition is satisfied.\n",
    "- It almost same as the boolean indexing or Masked array.\n",
    "\n",
    "https://numpy.org/doc/stable/reference/generated/numpy.where.html"
   ]
  },
  {
   "cell_type": "code",
   "execution_count": 110,
   "id": "3c37adcd-fcc8-406e-8377-826ec709aea5",
   "metadata": {},
   "outputs": [
    {
     "data": {
      "text/plain": [
       "array([35, 59, 51, 94, 40, 10, 26, 75, 52, 72, 66, 20, 81, 77, 22, 14, 11,\n",
       "       94, 94, 22])"
      ]
     },
     "execution_count": 110,
     "metadata": {},
     "output_type": "execute_result"
    }
   ],
   "source": [
    "a"
   ]
  },
  {
   "cell_type": "code",
   "execution_count": 115,
   "id": "7c42a870-261d-4309-bfb2-0978b745be64",
   "metadata": {},
   "outputs": [
    {
     "data": {
      "text/plain": [
       "array([False, False, False,  True, False, False, False, False,  True,\n",
       "        True,  True, False, False, False, False, False, False,  True,\n",
       "        True, False])"
      ]
     },
     "execution_count": 115,
     "metadata": {},
     "output_type": "execute_result"
    }
   ],
   "source": [
    "# find the even numbers indics that are greater than 50. \n",
    "\n",
    "# mask array is formed.\n",
    "(a > 50) & (a % 2 == 0)"
   ]
  },
  {
   "cell_type": "code",
   "execution_count": 116,
   "id": "82725d74-e22f-4f9f-a47a-a2fb4b5e1b56",
   "metadata": {},
   "outputs": [
    {
     "data": {
      "text/plain": [
       "(array([ 3,  8,  9, 10, 17, 18]),)"
      ]
     },
     "execution_count": 116,
     "metadata": {},
     "output_type": "execute_result"
    }
   ],
   "source": [
    "np.where((a > 50) & (a % 2 == 0))"
   ]
  },
  {
   "cell_type": "code",
   "execution_count": 118,
   "id": "2932c756-b8d6-4b80-b30e-f30420619db9",
   "metadata": {},
   "outputs": [
    {
     "data": {
      "text/plain": [
       "array([35,  0,  0,  0, 40, 10, 26,  0,  0,  0,  0, 20,  0,  0, 22, 14, 11,\n",
       "        0,  0, 22])"
      ]
     },
     "execution_count": 118,
     "metadata": {},
     "output_type": "execute_result"
    }
   ],
   "source": [
    "# replace all values > 50 with 0. \n",
    "\n",
    "# syntax ---> np.where(Condition, True, False)\n",
    "np.where(a > 50 , 0, a)"
   ]
  },
  {
   "cell_type": "markdown",
   "id": "592911c7-d7a6-4bca-8f01-ccf6faa13551",
   "metadata": {},
   "source": [
    "### np.argmax\n",
    "\n",
    "The numpy.argmax() function returns indices of the max element of the array in a particular axis.\n",
    "\n",
    "https://numpy.org/doc/stable/reference/generated/numpy.argmax.html"
   ]
  },
  {
   "cell_type": "code",
   "execution_count": 122,
   "id": "d2ccbd47-0ab3-47ac-b2d2-14e350009c55",
   "metadata": {},
   "outputs": [
    {
     "data": {
      "text/plain": [
       "array([35, 59, 51, 94, 40, 10, 26, 75, 52, 72, 66, 20, 81, 77, 22, 14, 11,\n",
       "       94, 94, 22])"
      ]
     },
     "execution_count": 122,
     "metadata": {},
     "output_type": "execute_result"
    }
   ],
   "source": [
    "a"
   ]
  },
  {
   "cell_type": "code",
   "execution_count": 123,
   "id": "1b4fefa1-078a-47ec-97fa-211ae8f20f16",
   "metadata": {},
   "outputs": [
    {
     "data": {
      "text/plain": [
       "array([[74, 94, 12,  4, 42],\n",
       "       [55, 42, 45, 56, 12],\n",
       "       [86,  5, 10,  9, 78],\n",
       "       [47, 82, 15, 24, 36]], dtype=int32)"
      ]
     },
     "execution_count": 123,
     "metadata": {},
     "output_type": "execute_result"
    }
   ],
   "source": [
    "b"
   ]
  },
  {
   "cell_type": "code",
   "execution_count": 124,
   "id": "5f70fd4e-d219-4dea-a783-076061ca9cd5",
   "metadata": {},
   "outputs": [
    {
     "data": {
      "text/plain": [
       "np.int64(3)"
      ]
     },
     "execution_count": 124,
     "metadata": {},
     "output_type": "execute_result"
    }
   ],
   "source": [
    "np.argmax(a)"
   ]
  },
  {
   "cell_type": "code",
   "execution_count": 126,
   "id": "427dd124-8e06-4fb6-b430-19f4ff2d76fa",
   "metadata": {},
   "outputs": [
    {
     "data": {
      "text/plain": [
       "array([2, 0, 1, 1, 2])"
      ]
     },
     "execution_count": 126,
     "metadata": {},
     "output_type": "execute_result"
    }
   ],
   "source": [
    "np.argmax(b, axis=0)"
   ]
  },
  {
   "cell_type": "code",
   "execution_count": 127,
   "id": "1f7f5abe-3181-4ba0-af74-aee61c84f1cb",
   "metadata": {},
   "outputs": [
    {
     "data": {
      "text/plain": [
       "array([1, 3, 0, 1])"
      ]
     },
     "execution_count": 127,
     "metadata": {},
     "output_type": "execute_result"
    }
   ],
   "source": [
    "np.argmax(b, axis = 1)"
   ]
  },
  {
   "cell_type": "markdown",
   "id": "9e14dbca-7198-4e2b-9a6f-ffbc611196a2",
   "metadata": {},
   "source": [
    "###  np.argmin() function"
   ]
  },
  {
   "cell_type": "markdown",
   "id": "3b06d5ad-9038-41ff-aba4-8d47758dcdf8",
   "metadata": {},
   "source": [
    "### np.cumsum\n",
    "\n",
    "numpy.cumsum() function is used when we want to compute the cumulative sum of array elements over a given axis.\n",
    "\n",
    "https://numpy.org/doc/stable/reference/generated/numpy.cumsum.html"
   ]
  },
  {
   "cell_type": "code",
   "execution_count": 135,
   "id": "fc28e47e-b8bc-439c-b662-bf912cfb3d5d",
   "metadata": {},
   "outputs": [
    {
     "data": {
      "text/plain": [
       "array([ 1,  3,  6, 10, 15, 21, 28, 36])"
      ]
     },
     "execution_count": 135,
     "metadata": {},
     "output_type": "execute_result"
    }
   ],
   "source": [
    "# 1D array.\n",
    "arr = np.array([1, 2, 3, 4, 5, 6, 7, 8])\n",
    "np.cumsum(arr)"
   ]
  },
  {
   "cell_type": "code",
   "execution_count": 138,
   "id": "2164ad34-ca5a-45d5-ab58-8a0890a738b0",
   "metadata": {},
   "outputs": [
    {
     "data": {
      "text/plain": [
       "array([[ 74,  94,  12,   4,  42],\n",
       "       [129, 136,  57,  60,  54],\n",
       "       [215, 141,  67,  69, 132],\n",
       "       [262, 223,  82,  93, 168]])"
      ]
     },
     "execution_count": 138,
     "metadata": {},
     "output_type": "execute_result"
    }
   ],
   "source": [
    "# 2D array row wise cum sum\n",
    "np.cumsum(b, axis=0)"
   ]
  },
  {
   "cell_type": "code",
   "execution_count": 139,
   "id": "dd01c91a-baf0-43da-b3d0-38913b07d080",
   "metadata": {},
   "outputs": [
    {
     "data": {
      "text/plain": [
       "array([[ 74, 168, 180, 184, 226],\n",
       "       [ 55,  97, 142, 198, 210],\n",
       "       [ 86,  91, 101, 110, 188],\n",
       "       [ 47, 129, 144, 168, 204]])"
      ]
     },
     "execution_count": 139,
     "metadata": {},
     "output_type": "execute_result"
    }
   ],
   "source": [
    "# 2D array row wise cum sum\n",
    "np.cumsum(b, axis=1)"
   ]
  },
  {
   "cell_type": "markdown",
   "id": "bac3edb9-ea11-45fa-9d07-f72f8dade2df",
   "metadata": {},
   "source": [
    "### np.cumprod() function is also same as np.cumsum() function."
   ]
  },
  {
   "cell_type": "markdown",
   "id": "574c94ee-d850-48ed-83bf-872ed3f8b0d2",
   "metadata": {},
   "source": [
    "### np.percentile\n",
    "\n",
    "numpy.percentile()function used to compute the nth percentile of the given data (array elements) along the specified axis. \n",
    "\n",
    "https://numpy.org/doc/stable/reference/generated/numpy.percentile.html"
   ]
  },
  {
   "cell_type": "code",
   "execution_count": 141,
   "id": "c7951695-ed75-4f48-8fbc-063acea551dd",
   "metadata": {},
   "outputs": [
    {
     "data": {
      "text/plain": [
       "array([35, 59, 51, 94, 40, 10, 26, 75, 52, 72, 66, 20, 81, 77, 22, 14, 11,\n",
       "       94, 94, 22])"
      ]
     },
     "execution_count": 141,
     "metadata": {},
     "output_type": "execute_result"
    }
   ],
   "source": [
    "a"
   ]
  },
  {
   "cell_type": "code",
   "execution_count": 147,
   "id": "b64d4715-b168-4229-ac5d-cd3e05afc194",
   "metadata": {},
   "outputs": [
    {
     "data": {
      "text/plain": [
       "np.float64(51.5)"
      ]
     },
     "execution_count": 147,
     "metadata": {},
     "output_type": "execute_result"
    }
   ],
   "source": [
    "# 1D array\n",
    "np.percentile(a, 50)"
   ]
  },
  {
   "cell_type": "code",
   "execution_count": 148,
   "id": "9c6dc2ac-1a08-4429-8f02-370a1596041d",
   "metadata": {},
   "outputs": [
    {
     "data": {
      "text/plain": [
       "array([64.5, 62. , 13.5, 16.5, 39. ])"
      ]
     },
     "execution_count": 148,
     "metadata": {},
     "output_type": "execute_result"
    }
   ],
   "source": [
    "# 2D array row wise. \n",
    "np.percentile(b, 50, axis=0)"
   ]
  },
  {
   "cell_type": "code",
   "execution_count": 149,
   "id": "5b973ff8-9fb7-4ab2-a4ac-d0cfc8290b75",
   "metadata": {},
   "outputs": [
    {
     "data": {
      "text/plain": [
       "array([42., 45., 10., 36.])"
      ]
     },
     "execution_count": 149,
     "metadata": {},
     "output_type": "execute_result"
    }
   ],
   "source": [
    "# 2D array row wise. \n",
    "np.percentile(b, 50, axis=1)"
   ]
  },
  {
   "cell_type": "markdown",
   "id": "159eea49-4cb1-44ba-99c5-d5dbf16a21ac",
   "metadata": {},
   "source": [
    "### np.histogram\n",
    "\n",
    "Numpy has a built-in numpy.histogram() function which represents the frequency of data distribution in the graphical form.\n",
    "\n",
    "https://numpy.org/doc/stable/reference/generated/numpy.histogram.html"
   ]
  },
  {
   "cell_type": "code",
   "execution_count": 150,
   "id": "7df9d0d2-7b45-4741-8fe9-51055b389d3a",
   "metadata": {},
   "outputs": [
    {
     "data": {
      "text/plain": [
       "array([35, 59, 51, 94, 40, 10, 26, 75, 52, 72, 66, 20, 81, 77, 22, 14, 11,\n",
       "       94, 94, 22])"
      ]
     },
     "execution_count": 150,
     "metadata": {},
     "output_type": "execute_result"
    }
   ],
   "source": [
    "a"
   ]
  },
  {
   "cell_type": "code",
   "execution_count": 152,
   "id": "bb48b434-316a-4c62-af43-f52430153a3e",
   "metadata": {},
   "outputs": [
    {
     "data": {
      "text/plain": [
       "(array([0, 3, 4, 1, 1, 3, 1, 3, 1, 3]),\n",
       " array([  0,  10,  20,  30,  40,  50,  60,  70,  80,  90, 100]))"
      ]
     },
     "execution_count": 152,
     "metadata": {},
     "output_type": "execute_result"
    }
   ],
   "source": [
    "np.histogram(a, bins=[0, 10, 20, 30, 40, 50, 60, 70, 80, 90, 100])"
   ]
  },
  {
   "cell_type": "code",
   "execution_count": 154,
   "id": "31a3195d-8a34-48d8-8ad0-653019321a6e",
   "metadata": {},
   "outputs": [
    {
     "data": {
      "text/plain": [
       "(array([ 9, 11]), array([  0,  50, 100]))"
      ]
     },
     "execution_count": 154,
     "metadata": {},
     "output_type": "execute_result"
    }
   ],
   "source": [
    "np.histogram(a, bins=[0, 50, 100])"
   ]
  },
  {
   "cell_type": "markdown",
   "id": "383d7fb6-75b3-4c2f-bae9-c23815847587",
   "metadata": {},
   "source": [
    "### np.corrcoef\n",
    "\n",
    "Return Pearson product-moment correlation coefficients.\n",
    "\n",
    "https://numpy.org/doc/stable/reference/generated/numpy.corrcoef.html"
   ]
  },
  {
   "cell_type": "code",
   "execution_count": 155,
   "id": "430f6a0a-63e5-44c9-ab2b-c2981aa9db92",
   "metadata": {},
   "outputs": [
    {
     "data": {
      "text/plain": [
       "array([[1.        , 0.25344572],\n",
       "       [0.25344572, 1.        ]])"
      ]
     },
     "execution_count": 155,
     "metadata": {},
     "output_type": "execute_result"
    }
   ],
   "source": [
    "salary = np.array([20000,40000,25000,35000,60000])\n",
    "experience = np.array([1,3,2,4,2])\n",
    "\n",
    "np.corrcoef(salary,experience)"
   ]
  },
  {
   "cell_type": "markdown",
   "id": "dcc12bbb-8c10-4b2a-a459-27aa20e1cb8d",
   "metadata": {},
   "source": [
    "### np.isin\n",
    "\n",
    "With the help of numpy.isin() method, we can see that one array having values are checked in a different numpy array having different elements with different sizes.\n",
    "\n",
    "https://numpy.org/doc/stable/reference/generated/numpy.isin.html"
   ]
  },
  {
   "cell_type": "code",
   "execution_count": 156,
   "id": "bbd09356-1d10-4846-b170-830a22656840",
   "metadata": {},
   "outputs": [
    {
     "data": {
      "text/plain": [
       "array([35, 59, 51, 94, 40, 10, 26, 75, 52, 72, 66, 20, 81, 77, 22, 14, 11,\n",
       "       94, 94, 22])"
      ]
     },
     "execution_count": 156,
     "metadata": {},
     "output_type": "execute_result"
    }
   ],
   "source": [
    "a"
   ]
  },
  {
   "cell_type": "code",
   "execution_count": 157,
   "id": "16acc123-b5f3-4b76-9554-19bda140215c",
   "metadata": {},
   "outputs": [
    {
     "data": {
      "text/plain": [
       "array([False, False, False, False,  True,  True, False, False, False,\n",
       "       False, False,  True, False, False, False, False, False, False,\n",
       "       False, False])"
      ]
     },
     "execution_count": 157,
     "metadata": {},
     "output_type": "execute_result"
    }
   ],
   "source": [
    "items = [10,20,30,40,50,60,70,80,90,100]\n",
    "\n",
    "np.isin(a, items)"
   ]
  },
  {
   "cell_type": "code",
   "execution_count": 158,
   "id": "408f7663-0d26-40de-8747-c33c263d7398",
   "metadata": {},
   "outputs": [
    {
     "data": {
      "text/plain": [
       "array([40, 10, 20])"
      ]
     },
     "execution_count": 158,
     "metadata": {},
     "output_type": "execute_result"
    }
   ],
   "source": [
    "a[np.isin(a, items)]"
   ]
  },
  {
   "cell_type": "markdown",
   "id": "95517ecc-9b0b-4d50-878e-cca1ffd99fdf",
   "metadata": {},
   "source": [
    "### np.flip\n",
    "\n",
    "The numpy.flip() function reverses the order of array elements along the specified axis, preserving the shape of the array.\n",
    "\n",
    "https://numpy.org/doc/stable/reference/generated/numpy.flip.html"
   ]
  },
  {
   "cell_type": "code",
   "execution_count": 159,
   "id": "e72f7416-f5ea-45fe-a5a6-907f32b5b091",
   "metadata": {},
   "outputs": [
    {
     "data": {
      "text/plain": [
       "array([35, 59, 51, 94, 40, 10, 26, 75, 52, 72, 66, 20, 81, 77, 22, 14, 11,\n",
       "       94, 94, 22])"
      ]
     },
     "execution_count": 159,
     "metadata": {},
     "output_type": "execute_result"
    }
   ],
   "source": [
    "a"
   ]
  },
  {
   "cell_type": "code",
   "execution_count": 161,
   "id": "ed7a94bb-a8a5-4c56-8074-5724c8fdfedd",
   "metadata": {},
   "outputs": [
    {
     "data": {
      "text/plain": [
       "array([22, 94, 94, 11, 14, 22, 77, 81, 20, 66, 72, 52, 75, 26, 10, 40, 94,\n",
       "       51, 59, 35])"
      ]
     },
     "execution_count": 161,
     "metadata": {},
     "output_type": "execute_result"
    }
   ],
   "source": [
    "# reverse the array. \n",
    "np.flip(a)"
   ]
  },
  {
   "cell_type": "code",
   "execution_count": 162,
   "id": "bda71f4b-a256-4219-9c30-b1ec7ca53f84",
   "metadata": {},
   "outputs": [
    {
     "data": {
      "text/plain": [
       "array([[42,  4, 12, 94, 74],\n",
       "       [12, 56, 45, 42, 55],\n",
       "       [78,  9, 10,  5, 86],\n",
       "       [36, 24, 15, 82, 47]], dtype=int32)"
      ]
     },
     "execution_count": 162,
     "metadata": {},
     "output_type": "execute_result"
    }
   ],
   "source": [
    "# 2D array flip along column wise\n",
    "np.flip(b,axis=1)"
   ]
  },
  {
   "cell_type": "code",
   "execution_count": 163,
   "id": "907f2119-973b-4836-a859-571722e02f6b",
   "metadata": {},
   "outputs": [
    {
     "data": {
      "text/plain": [
       "array([[47, 82, 15, 24, 36],\n",
       "       [86,  5, 10,  9, 78],\n",
       "       [55, 42, 45, 56, 12],\n",
       "       [74, 94, 12,  4, 42]], dtype=int32)"
      ]
     },
     "execution_count": 163,
     "metadata": {},
     "output_type": "execute_result"
    }
   ],
   "source": [
    "# 2D array flip along row wise\n",
    "np.flip(b,axis=0)"
   ]
  },
  {
   "cell_type": "markdown",
   "id": "f1e96f33-af0b-493f-a820-21f435365c07",
   "metadata": {},
   "source": [
    "### np.put\n",
    "\n",
    "The numpy.put() function replaces specific elements of an array with given values of p_array. Array indexed works on flattened array. \n",
    "\n",
    "https://numpy.org/doc/stable/reference/generated/numpy.put.html"
   ]
  },
  {
   "cell_type": "code",
   "execution_count": 164,
   "id": "0791c848-0308-4724-a39d-6a98893362c2",
   "metadata": {},
   "outputs": [
    {
     "data": {
      "text/plain": [
       "array([35, 59, 51, 94, 40, 10, 26, 75, 52, 72, 66, 20, 81, 77, 22, 14, 11,\n",
       "       94, 94, 22])"
      ]
     },
     "execution_count": 164,
     "metadata": {},
     "output_type": "execute_result"
    }
   ],
   "source": [
    "a"
   ]
  },
  {
   "cell_type": "code",
   "execution_count": 165,
   "id": "451ec17e-182a-44b9-9386-ac256819a7a8",
   "metadata": {},
   "outputs": [],
   "source": [
    "np.put(a, [0,1], [110,530])"
   ]
  },
  {
   "cell_type": "code",
   "execution_count": 166,
   "id": "5f6c5795-ada0-4ecb-96c5-dcb42c123d66",
   "metadata": {},
   "outputs": [
    {
     "data": {
      "text/plain": [
       "array([110, 530,  51,  94,  40,  10,  26,  75,  52,  72,  66,  20,  81,\n",
       "        77,  22,  14,  11,  94,  94,  22])"
      ]
     },
     "execution_count": 166,
     "metadata": {},
     "output_type": "execute_result"
    }
   ],
   "source": [
    "a"
   ]
  },
  {
   "cell_type": "markdown",
   "id": "fbcb8d26-ff7d-4e30-8d6d-b2d7242755e2",
   "metadata": {},
   "source": [
    "### np.delete\n",
    "\n",
    "The numpy.delete() function returns a new array with the deletion of sub-arrays along with the mentioned axis. \n",
    "\n",
    "https://numpy.org/doc/stable/reference/generated/numpy.delete.html"
   ]
  },
  {
   "cell_type": "code",
   "execution_count": 167,
   "id": "d87f012d-c7d1-4426-bf82-12b4eb0420d3",
   "metadata": {},
   "outputs": [
    {
     "data": {
      "text/plain": [
       "array([51, 94, 10, 26, 75, 52, 72, 66, 20, 81, 77, 22, 14, 11, 94, 94, 22])"
      ]
     },
     "execution_count": 167,
     "metadata": {},
     "output_type": "execute_result"
    }
   ],
   "source": [
    "np.delete(a, [0, 1, 4])"
   ]
  },
  {
   "cell_type": "markdown",
   "id": "0c909eb5-1b24-4082-b6ab-44af73f44719",
   "metadata": {},
   "source": [
    "### Set functions\n",
    "\n",
    "- np.union1d\n",
    "- np.intersect1d\n",
    "- np.setdiff1d\n",
    "- np.setxor1d\n",
    "- np.in1d"
   ]
  },
  {
   "cell_type": "code",
   "execution_count": 168,
   "id": "f1345ce2-0189-43b1-9879-8121e8d8d5e2",
   "metadata": {},
   "outputs": [
    {
     "data": {
      "text/plain": [
       "array([1, 2, 3, 4, 5, 6, 7])"
      ]
     },
     "execution_count": 168,
     "metadata": {},
     "output_type": "execute_result"
    }
   ],
   "source": [
    "m = np.array([1,2,3,4,5])\n",
    "n = np.array([3,4,5,6,7])\n",
    "\n",
    "np.union1d(m,n)"
   ]
  },
  {
   "cell_type": "code",
   "execution_count": 169,
   "id": "91850731-8879-42e0-911c-491bc6020a61",
   "metadata": {},
   "outputs": [
    {
     "data": {
      "text/plain": [
       "array([3, 4, 5])"
      ]
     },
     "execution_count": 169,
     "metadata": {},
     "output_type": "execute_result"
    }
   ],
   "source": [
    "np.intersect1d(m,n)"
   ]
  },
  {
   "cell_type": "code",
   "execution_count": 171,
   "id": "7647415e-bc21-4437-8340-441dcc4e4f36",
   "metadata": {},
   "outputs": [
    {
     "data": {
      "text/plain": [
       "array([1, 2])"
      ]
     },
     "execution_count": 171,
     "metadata": {},
     "output_type": "execute_result"
    }
   ],
   "source": [
    "np.setdiff1d(m, n)"
   ]
  },
  {
   "cell_type": "markdown",
   "id": "e7224467-f349-4821-b6f7-366992f4e457",
   "metadata": {},
   "source": [
    "### np.clip\n",
    "\n",
    "numpy.clip() function is used to Clip (limit) the values in an array.\n",
    "\n",
    "https://numpy.org/doc/stable/reference/generated/numpy.clip.html"
   ]
  },
  {
   "cell_type": "code",
   "execution_count": 174,
   "id": "71a258a8-2646-4b7e-8d5f-b830faeb3414",
   "metadata": {},
   "outputs": [
    {
     "data": {
      "text/plain": [
       "array([110, 530,  51,  94,  40,  10,  26,  75,  52,  72,  66,  20,  81,\n",
       "        77,  22,  14,  11,  94,  94,  22])"
      ]
     },
     "execution_count": 174,
     "metadata": {},
     "output_type": "execute_result"
    }
   ],
   "source": [
    "a"
   ]
  },
  {
   "cell_type": "code",
   "execution_count": 176,
   "id": "1b975f7f-3903-4063-860e-333635e39584",
   "metadata": {},
   "outputs": [
    {
     "data": {
      "text/plain": [
       "array([75, 75, 51, 75, 40, 25, 26, 75, 52, 72, 66, 25, 75, 75, 25, 25, 25,\n",
       "       75, 75, 25])"
      ]
     },
     "execution_count": 176,
     "metadata": {},
     "output_type": "execute_result"
    }
   ],
   "source": [
    "# all values greater than 75 replace with 75 and all values less than 25 replace by 25\n",
    "\n",
    "np.clip(a, min=25, max=75)"
   ]
  },
  {
   "cell_type": "markdown",
   "id": "68b5f0a6-8c15-4a3a-b334-6d3a8af0e98f",
   "metadata": {},
   "source": [
    "### np.swapaxes\n",
    "- swapaxes basically change the shape of the matrix."
   ]
  },
  {
   "cell_type": "code",
   "execution_count": 195,
   "id": "e6a93d1b-1959-47cf-a75a-5961a8a6c7fa",
   "metadata": {},
   "outputs": [
    {
     "data": {
      "text/plain": [
       "array([[74, 94, 12,  4, 42],\n",
       "       [55, 42, 45, 56, 12],\n",
       "       [86,  5, 10,  9, 78],\n",
       "       [47, 82, 15, 24, 36]], dtype=int32)"
      ]
     },
     "execution_count": 195,
     "metadata": {},
     "output_type": "execute_result"
    }
   ],
   "source": [
    "b"
   ]
  },
  {
   "cell_type": "code",
   "execution_count": 201,
   "id": "6614f033-f168-4516-bd9b-6cdf67486c2e",
   "metadata": {},
   "outputs": [
    {
     "data": {
      "text/plain": [
       "array([[74, 55, 86, 47],\n",
       "       [94, 42,  5, 82],\n",
       "       [12, 45, 10, 15],\n",
       "       [ 4, 56,  9, 24],\n",
       "       [42, 12, 78, 36]], dtype=int32)"
      ]
     },
     "execution_count": 201,
     "metadata": {},
     "output_type": "execute_result"
    }
   ],
   "source": [
    "np.swapaxes(b, 0, 1)"
   ]
  },
  {
   "cell_type": "markdown",
   "id": "2f938e46-6657-4b02-8eb9-a7d3ebe1e052",
   "metadata": {},
   "source": [
    "### np.uniform"
   ]
  },
  {
   "cell_type": "markdown",
   "id": "d34ca6fa-954f-4870-9470-c0f8ee9e38a3",
   "metadata": {},
   "source": [
    "✅ numpy.random.uniform generates random numbers uniformly distributed over a specified interval.\n",
    "\n",
    "👉 This means:\n",
    "- All numbers in the interval are equally likely to appear.\n",
    "- The probability density is constant across the interval.\n",
    "\n",
    "numpy.random.uniform(low=0.0, high=1.0, size=None)\n",
    "\n",
    "Where:\n",
    "- low → The lower bound of the interval (inclusive).\n",
    "- high → The upper bound of the interval (exclusive).\n",
    "- size → The shape of the output array (e.g. integer, tuple).\n",
    "\n",
    "Defaults\n",
    "\n",
    "    If you don’t specify anything:\n",
    "        np.random.uniform()\n",
    "    → generates a single random float in [0.0, 1.0)"
   ]
  },
  {
   "cell_type": "code",
   "execution_count": 202,
   "id": "1f921dcd-1716-4890-8f28-58bc3de93ade",
   "metadata": {},
   "outputs": [
    {
     "name": "stdout",
     "output_type": "stream",
     "text": [
      "0.3151959986743641\n",
      "7.973462925551418\n",
      "[0.8492251  0.95731277 0.24979732 0.31032581 0.94189906]\n",
      "[[-0.65826097 -0.04713201 -0.36829009]\n",
      " [-0.03371724  0.57937095  0.67929288]]\n"
     ]
    }
   ],
   "source": [
    "import numpy as np\n",
    "\n",
    "# A single random float in [0.0, 1.0)\n",
    "print(np.random.uniform())\n",
    "\n",
    "# A single random float in [5.0, 10.0)\n",
    "print(np.random.uniform(5.0, 10.0))\n",
    "\n",
    "# An array of 5 random floats in [0.0, 1.0)\n",
    "print(np.random.uniform(size=5))\n",
    "\n",
    "# A 2x3 array of random floats in [-1.0, 1.0)\n",
    "print(np.random.uniform(-1.0, 1.0, size=(2,3)))\n"
   ]
  },
  {
   "cell_type": "markdown",
   "id": "10ca5c4b-31f2-4063-8401-6d9b4f7cffe1",
   "metadata": {},
   "source": [
    "### np.count_nonzero"
   ]
  },
  {
   "cell_type": "code",
   "execution_count": 205,
   "id": "d4be4f69-67c9-43e6-8473-e4af63e42975",
   "metadata": {},
   "outputs": [
    {
     "name": "stdout",
     "output_type": "stream",
     "text": [
      "Number of zeros: 4\n",
      "Number of zeros (method 2): 4\n"
     ]
    }
   ],
   "source": [
    "import numpy as np\n",
    "\n",
    "a = np.array([[1, 0, 2],\n",
    "              [0, 0, 3],\n",
    "              [4, 5, 0]])\n",
    "\n",
    "# Method 1: Using count_nonzero\n",
    "num_zeros = np.count_nonzero(a == 0)\n",
    "print(\"Number of zeros:\", num_zeros)\n",
    "\n",
    "# Method 2: Using sum of boolean mask\n",
    "num_zeros2 = (a == 0).sum()\n",
    "print(\"Number of zeros (method 2):\", num_zeros2)\n"
   ]
  },
  {
   "cell_type": "markdown",
   "id": "fd248f99-4ebb-445e-993f-ea73229324ba",
   "metadata": {},
   "source": [
    "### np.tile\n",
    " - https://www.kaggle.com/code/abhayparashar31/best-numpy-functions-for-data-science-50?scriptVersionId=98816580"
   ]
  },
  {
   "cell_type": "code",
   "execution_count": 191,
   "id": "908aae89-6945-4675-b7a3-d439822640ef",
   "metadata": {},
   "outputs": [
    {
     "name": "stdout",
     "output_type": "stream",
     "text": [
      "[0 1 2]\n"
     ]
    },
    {
     "data": {
      "text/plain": [
       "array([0, 1, 2, 0, 1, 2, 0, 1, 2])"
      ]
     },
     "execution_count": 191,
     "metadata": {},
     "output_type": "execute_result"
    }
   ],
   "source": [
    "arr = np.arange(0, 3)\n",
    "print(arr)\n",
    "\n",
    "np.tile(arr, 3)"
   ]
  },
  {
   "cell_type": "markdown",
   "id": "7fe5df51-22e6-48ab-a9e3-83bf0a1b68cc",
   "metadata": {},
   "source": [
    "### np.repeat\n",
    "-  https://towardsdatascience.com/10-numpy-functions-you-should-know-1dc4863764c5"
   ]
  },
  {
   "cell_type": "code",
   "execution_count": 192,
   "id": "fc71c081-65f0-497b-890a-c02b37f741b7",
   "metadata": {},
   "outputs": [
    {
     "data": {
      "text/plain": [
       "array([0, 1, 2])"
      ]
     },
     "execution_count": 192,
     "metadata": {},
     "output_type": "execute_result"
    }
   ],
   "source": [
    "arr"
   ]
  },
  {
   "cell_type": "code",
   "execution_count": 194,
   "id": "7f08bfdb-8e5d-4616-8f7c-6f69d3ee3a78",
   "metadata": {},
   "outputs": [
    {
     "data": {
      "text/plain": [
       "array([0, 0, 0, 0, 0, 1, 1, 1, 1, 1, 2, 2, 2, 2, 2])"
      ]
     },
     "execution_count": 194,
     "metadata": {},
     "output_type": "execute_result"
    }
   ],
   "source": [
    "np.repeat(arr, 5)"
   ]
  },
  {
   "cell_type": "markdown",
   "id": "8f272ae8-eb1c-4682-beeb-2beb68354dee",
   "metadata": {},
   "source": [
    "### np.allclose and equals"
   ]
  },
  {
   "cell_type": "code",
   "execution_count": null,
   "id": "f0f3552a-7b55-4d83-8973-08b09a78f864",
   "metadata": {},
   "outputs": [],
   "source": []
  }
 ],
 "metadata": {
  "kernelspec": {
   "display_name": "Python 3 (ipykernel)",
   "language": "python",
   "name": "python3"
  },
  "language_info": {
   "codemirror_mode": {
    "name": "ipython",
    "version": 3
   },
   "file_extension": ".py",
   "mimetype": "text/x-python",
   "name": "python",
   "nbconvert_exporter": "python",
   "pygments_lexer": "ipython3",
   "version": "3.13.1"
  }
 },
 "nbformat": 4,
 "nbformat_minor": 5
}
