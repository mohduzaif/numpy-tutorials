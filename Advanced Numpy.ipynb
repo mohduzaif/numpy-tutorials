{
 "cells": [
  {
   "cell_type": "markdown",
   "id": "7ac9ac94-e75c-4ca0-92f1-b7db791fa767",
   "metadata": {},
   "source": [
    "## Advanced Numpy Concept."
   ]
  },
  {
   "cell_type": "markdown",
   "id": "4ca45155-2f5a-4d4d-8f65-7e24ea917bf6",
   "metadata": {},
   "source": [
    "### Numpy array vs Python lists."
   ]
  },
  {
   "cell_type": "markdown",
   "id": "9a6331de-1c6c-4e68-b63e-282269b15aaf",
   "metadata": {},
   "source": [
    "1. Speed"
   ]
  },
  {
   "cell_type": "code",
   "execution_count": 1,
   "id": "8a532ff6-6c48-40fd-968f-76e6ab48da04",
   "metadata": {},
   "outputs": [
    {
     "name": "stdout",
     "output_type": "stream",
     "text": [
      "2.444322109222412\n"
     ]
    }
   ],
   "source": [
    "# List.\n",
    "\n",
    "import time\n",
    "\n",
    "List1 = [x for x in range(1, 10000000)]\n",
    "List2 = [x for x in range(10000000, 20000000)]\n",
    "\n",
    "ans = [] \n",
    "\n",
    "start = time.time()\n",
    "for i in range(len(List1)): \n",
    "    ans.append(List1[i] + List2[i])\n",
    "print(time.time() - start)"
   ]
  },
  {
   "cell_type": "code",
   "execution_count": 3,
   "id": "b72d56e3-704c-4328-98cf-447ae5b3a79d",
   "metadata": {
    "scrolled": true
   },
   "outputs": [
    {
     "name": "stdout",
     "output_type": "stream",
     "text": [
      "0.023390531539916992\n"
     ]
    }
   ],
   "source": [
    "# Numpy Array. \n",
    "import numpy as np\n",
    "import time\n",
    "\n",
    "arr1 = np.arange(10000000)\n",
    "arr2 = np.arange(10000000, 20000000)\n",
    "\n",
    "start = time.time()\n",
    "ans = arr1 + arr2\n",
    "print(time.time() - start)"
   ]
  },
  {
   "cell_type": "code",
   "execution_count": 6,
   "id": "438368b1-bf2c-4509-8123-fef1b4641a28",
   "metadata": {},
   "outputs": [
    {
     "data": {
      "text/plain": [
       "122.0"
      ]
     },
     "execution_count": 6,
     "metadata": {},
     "output_type": "execute_result"
    }
   ],
   "source": [
    "# how much faster a numpy array is from List. \n",
    "times_faster = 2.44 / 0.02\n",
    "times_faster"
   ]
  },
  {
   "cell_type": "markdown",
   "id": "fa986da4-0db9-4920-851a-3ec114e6e934",
   "metadata": {},
   "source": [
    "2. Memory"
   ]
  },
  {
   "cell_type": "code",
   "execution_count": 8,
   "id": "872aa1af-fa43-47b8-a99b-e24e0b4591e6",
   "metadata": {},
   "outputs": [
    {
     "name": "stdout",
     "output_type": "stream",
     "text": [
      "89095160 Bytes\n"
     ]
    }
   ],
   "source": [
    "# List. \n",
    "import sys\n",
    "\n",
    "List1 = [x for x in range(10000000)]\n",
    "\n",
    "print(sys.getsizeof(List1), 'Bytes')"
   ]
  },
  {
   "cell_type": "code",
   "execution_count": 12,
   "id": "d8771d0b-473a-4a4e-9f6c-d03f2772ff99",
   "metadata": {},
   "outputs": [
    {
     "name": "stdout",
     "output_type": "stream",
     "text": [
      "80000112 Bytes for 64 bit integer\n",
      "40000112 Bytes for 32 bit integer\n",
      "20000112 Bytes for 16 bit integer\n",
      "10000112 Bytes for 8 bit integer\n"
     ]
    }
   ],
   "source": [
    "# Numpy array. \n",
    "\n",
    "arr1 = np.arange(10000000)\n",
    "arr2 = np.arange(10000000, dtype = np.int32)\n",
    "arr3 = np.arange(10000000, dtype = np.int16) \n",
    "arr4 = np.arange(10000000, dtype = np.int8)\n",
    "print(sys.getsizeof(arr1), 'Bytes for 64 bit integer')\n",
    "print(sys.getsizeof(arr2), 'Bytes for 32 bit integer') \n",
    "print(sys.getsizeof(arr3), 'Bytes for 16 bit integer') \n",
    "print(sys.getsizeof(arr4), 'Bytes for 8 bit integer')"
   ]
  },
  {
   "cell_type": "markdown",
   "id": "eb30bfe0-1551-42da-8a25-06a06494a4d4",
   "metadata": {},
   "source": [
    "`NOTE : ` \n",
    "- Numpy array gives us a flexibility to reduce the size of the array, by reducing its size to lower type.\n",
    "\n",
    "- Numpy array is more convinient than the List of python, this is also an edge of numpy array over python list."
   ]
  },
  {
   "cell_type": "markdown",
   "id": "8a129e56-555f-493b-a757-e0ff3afda2bf",
   "metadata": {},
   "source": [
    "### Advanced Indexing.\n",
    "1. Fancy indexing\n",
    "2. Boolean Indexing"
   ]
  },
  {
   "cell_type": "code",
   "execution_count": 15,
   "id": "e508495b-6515-4f9d-8840-9ddb0c128579",
   "metadata": {},
   "outputs": [
    {
     "data": {
      "text/plain": [
       "array([[[ 0,  1],\n",
       "        [ 2,  3],\n",
       "        [ 4,  5]],\n",
       "\n",
       "       [[ 6,  7],\n",
       "        [ 8,  9],\n",
       "        [10, 11]],\n",
       "\n",
       "       [[12, 13],\n",
       "        [14, 15],\n",
       "        [16, 17]],\n",
       "\n",
       "       [[18, 19],\n",
       "        [20, 21],\n",
       "        [22, 23]]])"
      ]
     },
     "execution_count": 15,
     "metadata": {},
     "output_type": "execute_result"
    }
   ],
   "source": [
    "# Normal indexing and Normal slicing. \n",
    "a1 = np.arange(24).reshape(4, 3, 2)\n",
    "a1"
   ]
  },
  {
   "cell_type": "code",
   "execution_count": 18,
   "id": "f5c730e5-bff4-4150-b2ba-e4f14311b062",
   "metadata": {},
   "outputs": [
    {
     "name": "stdout",
     "output_type": "stream",
     "text": [
      "15\n",
      "18\n"
     ]
    }
   ],
   "source": [
    "# Normal Indexing \n",
    "print(a1[2, 1, 1])   # 15\n",
    "print(a1[3, 0, 0])   # 18"
   ]
  },
  {
   "cell_type": "code",
   "execution_count": 21,
   "id": "7f120ce7-57c9-4a4a-9a80-ae9e8baa7a95",
   "metadata": {},
   "outputs": [
    {
     "name": "stdout",
     "output_type": "stream",
     "text": [
      "[[ 6  7]\n",
      " [18 19]]\n",
      "****************************************************************************************************************************************\n",
      "[ 7 13 19]\n"
     ]
    }
   ],
   "source": [
    "# Normal Slicing. \n",
    "print(a1[1 : : 2, 0, : ])\n",
    "print(\"**\" * 68)\n",
    "print(a1[1 : , 0, 1])"
   ]
  },
  {
   "cell_type": "code",
   "execution_count": 28,
   "id": "e888b727-bc3c-4121-9df1-df68b1b699d6",
   "metadata": {},
   "outputs": [
    {
     "data": {
      "text/plain": [
       "array([ 3, 21])"
      ]
     },
     "execution_count": 28,
     "metadata": {},
     "output_type": "execute_result"
    }
   ],
   "source": [
    "# <!-- Fancy indexing -->\n",
    "a1[[0, 3], [1], [1]]"
   ]
  },
  {
   "cell_type": "code",
   "execution_count": 31,
   "id": "8f121d10-730e-4f56-88bf-dc81fd2e6647",
   "metadata": {},
   "outputs": [
    {
     "data": {
      "text/plain": [
       "array([[ 0,  1,  2],\n",
       "       [ 3,  4,  5],\n",
       "       [ 6,  7,  8],\n",
       "       [ 9, 10, 11],\n",
       "       [12, 13, 14],\n",
       "       [15, 16, 17],\n",
       "       [18, 19, 20],\n",
       "       [21, 22, 23],\n",
       "       [24, 25, 26]])"
      ]
     },
     "execution_count": 31,
     "metadata": {},
     "output_type": "execute_result"
    }
   ],
   "source": [
    "a2 = np.arange(27).reshape(9, 3)\n",
    "a2"
   ]
  },
  {
   "cell_type": "code",
   "execution_count": 33,
   "id": "d932cfdc-5452-4784-9704-3f8f12f5b5f5",
   "metadata": {},
   "outputs": [
    {
     "data": {
      "text/plain": [
       "array([ 4, 13, 16, 19])"
      ]
     },
     "execution_count": 33,
     "metadata": {},
     "output_type": "execute_result"
    }
   ],
   "source": [
    "# Fancy indexing in 2D array \n",
    "a2[[1, 4, 5, 6], [1]]"
   ]
  },
  {
   "cell_type": "markdown",
   "id": "66ae78ab-db5d-4bec-9b63-317cf792433b",
   "metadata": {},
   "source": [
    "`NOTE : `\n",
    "Syntax of Fancy Indexing : ---> \n",
    "array_name[[list of array], [list of rows], [list of columns]]"
   ]
  },
  {
   "cell_type": "markdown",
   "id": "ddcc3f62-e400-4ab3-8ab3-f031290ba1a6",
   "metadata": {},
   "source": [
    "#### How to generate a random number array in a given interval."
   ]
  },
  {
   "cell_type": "code",
   "execution_count": 43,
   "id": "8a80da1a-a068-4a33-a3b5-da87884327e2",
   "metadata": {},
   "outputs": [
    {
     "data": {
      "text/plain": [
       "array([69, 43, 80, 72, 90, 13, 59, 65, 22, 62, 97, 58,  9, 58, 67, 85, 29,\n",
       "       74, 52, 27], dtype=int32)"
      ]
     },
     "execution_count": 43,
     "metadata": {},
     "output_type": "execute_result"
    }
   ],
   "source": [
    "arr1 = np.random.randint(1, 100, 20)\n",
    "arr1"
   ]
  },
  {
   "cell_type": "code",
   "execution_count": 48,
   "id": "ceeced88-0abb-41a2-98a6-2ededd7c5767",
   "metadata": {},
   "outputs": [
    {
     "data": {
      "text/plain": [
       "array([ True, False,  True,  True,  True, False,  True,  True, False,\n",
       "        True,  True,  True, False,  True,  True,  True, False,  True,\n",
       "        True, False])"
      ]
     },
     "execution_count": 48,
     "metadata": {},
     "output_type": "execute_result"
    }
   ],
   "source": [
    "# Boolean indexing. \n",
    "\n",
    "# it will generate a boolean array, where True is show for that value where the given condition is true. \n",
    "arr1 >= 50"
   ]
  },
  {
   "cell_type": "code",
   "execution_count": 49,
   "id": "ed406b98-ac12-4da1-b9eb-cd2fa5e529a0",
   "metadata": {},
   "outputs": [
    {
     "data": {
      "text/plain": [
       "array([69, 80, 72, 90, 59, 65, 62, 97, 58, 58, 67, 85, 74, 52],\n",
       "      dtype=int32)"
      ]
     },
     "execution_count": 49,
     "metadata": {},
     "output_type": "execute_result"
    }
   ],
   "source": [
    "# Now we will mask this array to the original array, to find the element for which the given condition is true. \n",
    "arr1[arr1 >= 50]"
   ]
  },
  {
   "cell_type": "code",
   "execution_count": 59,
   "id": "115d2c4c-42b0-4aeb-a244-ce0a46b94a27",
   "metadata": {},
   "outputs": [
    {
     "data": {
      "text/plain": [
       "array([False, False,  True,  True,  True, False, False, False, False,\n",
       "        True, False,  True, False,  True, False, False, False,  True,\n",
       "        True, False])"
      ]
     },
     "execution_count": 59,
     "metadata": {},
     "output_type": "execute_result"
    }
   ],
   "source": [
    "# New Condtion  --- >  find all numbers greater than 50 and are even. \n",
    "(arr1 > 50) & (arr1 % 2 == 0)"
   ]
  },
  {
   "cell_type": "markdown",
   "id": "587df2f4-4dab-48c0-94b7-34a024ce46c2",
   "metadata": {},
   "source": [
    "`NOTE : ` Here always used the bitwise operator( & , | ) in between the conditions."
   ]
  },
  {
   "cell_type": "code",
   "execution_count": 61,
   "id": "1b3d4c43-2b2c-420a-981d-bb7b2e5bfee6",
   "metadata": {},
   "outputs": [
    {
     "data": {
      "text/plain": [
       "array([80, 72, 90, 62, 58, 58, 74, 52], dtype=int32)"
      ]
     },
     "execution_count": 61,
     "metadata": {},
     "output_type": "execute_result"
    }
   ],
   "source": [
    "# Now we can mask this array to the original array. \n",
    "arr1[(arr1 > 50) & (arr1 % 2 == 0)]"
   ]
  },
  {
   "cell_type": "code",
   "execution_count": 62,
   "id": "982f2056-3721-498c-9d08-fdb08c68a41a",
   "metadata": {},
   "outputs": [
    {
     "data": {
      "text/plain": [
       "array([ True,  True,  True,  True,  True,  True,  True,  True,  True,\n",
       "        True,  True,  True,  True,  True,  True,  True,  True,  True,\n",
       "        True,  True])"
      ]
     },
     "execution_count": 62,
     "metadata": {},
     "output_type": "execute_result"
    }
   ],
   "source": [
    "# find all numbers not divisible by 7. \n",
    "~(arr1 % 7 == 0)"
   ]
  },
  {
   "cell_type": "code",
   "execution_count": 63,
   "id": "af9e11cb-bd4a-41d3-ad2c-dd58b8cc9fde",
   "metadata": {},
   "outputs": [
    {
     "data": {
      "text/plain": [
       "array([69, 43, 80, 72, 90, 13, 59, 65, 22, 62, 97, 58,  9, 58, 67, 85, 29,\n",
       "       74, 52, 27], dtype=int32)"
      ]
     },
     "execution_count": 63,
     "metadata": {},
     "output_type": "execute_result"
    }
   ],
   "source": [
    "arr1[~(arr1 % 7 == 0)]"
   ]
  },
  {
   "cell_type": "markdown",
   "id": "695815ee-11ca-4878-a028-487ca5e383cb",
   "metadata": {},
   "source": [
    "### Broadcasting\n",
    "\n",
    "The term broadcasting describes how NumPy treats arrays with different shapes during arithmetic operations.\n",
    "\n",
    "The smaller array is “broadcast” across the larger array so that they have compatible shapes."
   ]
  },
  {
   "cell_type": "code",
   "execution_count": 68,
   "id": "481453fa-f079-4842-bebc-595d9991e60b",
   "metadata": {},
   "outputs": [
    {
     "name": "stdout",
     "output_type": "stream",
     "text": [
      "[[0 1 2]\n",
      " [3 4 5]]\n",
      "****************************************************************************************************************************************\n",
      "[[0 1 2]\n",
      " [3 4 5]]\n",
      "****************************************************************************************************************************************\n",
      "[[ 0  2  4]\n",
      " [ 6  8 10]]\n"
     ]
    }
   ],
   "source": [
    "# same shape. \n",
    "\n",
    "arr1 = np.arange(6).reshape(2, 3)\n",
    "arr2 = np.arange(6).reshape(2, 3)\n",
    "\n",
    "print(arr1)\n",
    "print('**' * 68)\n",
    "print(arr2)\n",
    "\n",
    "print('**' * 68)\n",
    "print(arr1 + arr2)"
   ]
  },
  {
   "cell_type": "code",
   "execution_count": 69,
   "id": "4582ec51-67a6-4818-98bc-e26b4ff4c628",
   "metadata": {},
   "outputs": [
    {
     "name": "stdout",
     "output_type": "stream",
     "text": [
      "[[0 2 4]\n",
      " [3 5 7]]\n"
     ]
    }
   ],
   "source": [
    "# Different shape. \n",
    "a = np.arange(6).reshape(2, 3)\n",
    "b = np.arange(3).reshape(1, 3)\n",
    "\n",
    "print(a + b)"
   ]
  },
  {
   "cell_type": "markdown",
   "id": "d9f49b55-44ef-4c1c-85ac-2e693393657f",
   "metadata": {},
   "source": [
    "#### Broadcasting Rules\n",
    "\n",
    "**1. Make the two arrays have the same number of dimensions.**<br>\n",
    "- If the numbers of dimensions of the two arrays are different, add new dimensions with size 1 to the head of the array with the smaller dimension.<br>"
   ]
  },
  {
   "cell_type": "markdown",
   "id": "d7ee2f66-88cf-4397-8282-2a8edcd97e65",
   "metadata": {},
   "source": [
    "**2. Make each dimension of the two arrays the same size.**<br>\n",
    "- If the sizes of each dimension of the two arrays do not match, dimensions with size 1 are stretched to the size of the other array.\n",
    "- If there is a dimension whose size is not 1 in either of the two arrays, it cannot be broadcasted, and an error is raised."
   ]
  },
  {
   "cell_type": "markdown",
   "id": "e4c0f485-54f9-4162-9c27-5b60be6acaa9",
   "metadata": {},
   "source": [
    "<img src = \"https://jakevdp.github.io/PythonDataScienceHandbook/figures/02.05-broadcasting.png\">"
   ]
  },
  {
   "cell_type": "code",
   "execution_count": 73,
   "id": "7b1ed739-5e57-45a7-ae95-970a6a7dce4a",
   "metadata": {},
   "outputs": [
    {
     "name": "stdout",
     "output_type": "stream",
     "text": [
      "[[ 0  1  2]\n",
      " [ 3  4  5]\n",
      " [ 6  7  8]\n",
      " [ 9 10 11]]\n",
      "*\n",
      "[0 1 2]\n",
      "*\n",
      "[[ 0  2  4]\n",
      " [ 3  5  7]\n",
      " [ 6  8 10]\n",
      " [ 9 11 13]]\n"
     ]
    }
   ],
   "source": [
    "# Example 1\n",
    "\n",
    "a = np.arange(12).reshape(4,3)\n",
    "b = np.arange(3)\n",
    "\n",
    "print(a)\n",
    "print('*')\n",
    "print(b)\n",
    "\n",
    "print('*')\n",
    "print(a + b)"
   ]
  },
  {
   "cell_type": "code",
   "execution_count": 80,
   "id": "ddb93798-5ca6-4bbb-81ae-e4f1ae3f7b0c",
   "metadata": {},
   "outputs": [
    {
     "name": "stdout",
     "output_type": "stream",
     "text": [
      "[[ 0  1  2  3]\n",
      " [ 4  5  6  7]\n",
      " [ 8  9 10 11]]\n",
      "[0 1 2]\n",
      "*\n"
     ]
    },
    {
     "ename": "ValueError",
     "evalue": "operands could not be broadcast together with shapes (3,4) (3,) ",
     "output_type": "error",
     "traceback": [
      "\u001b[1;31m---------------------------------------------------------------------------\u001b[0m",
      "\u001b[1;31mValueError\u001b[0m                                Traceback (most recent call last)",
      "Cell \u001b[1;32mIn[80], line 9\u001b[0m\n\u001b[0;32m      6\u001b[0m \u001b[38;5;28mprint\u001b[39m(b)\n\u001b[0;32m      8\u001b[0m \u001b[38;5;28mprint\u001b[39m(\u001b[38;5;124m'\u001b[39m\u001b[38;5;124m*\u001b[39m\u001b[38;5;124m'\u001b[39m)\n\u001b[1;32m----> 9\u001b[0m \u001b[38;5;28mprint\u001b[39m(\u001b[43ma\u001b[49m\u001b[43m \u001b[49m\u001b[38;5;241;43m+\u001b[39;49m\u001b[43m \u001b[49m\u001b[43mb\u001b[49m)\n",
      "\u001b[1;31mValueError\u001b[0m: operands could not be broadcast together with shapes (3,4) (3,) "
     ]
    }
   ],
   "source": [
    "# Example 2\n",
    "a = np.arange(12).reshape(3,4)\n",
    "b = np.arange(3)\n",
    "\n",
    "print(a)\n",
    "print(b)\n",
    "\n",
    "print('*')\n",
    "print(a + b)"
   ]
  },
  {
   "cell_type": "code",
   "execution_count": 81,
   "id": "da949528-fdb9-49f2-a24d-c80578a0f377",
   "metadata": {},
   "outputs": [
    {
     "name": "stdout",
     "output_type": "stream",
     "text": [
      "[[0 1 2]]\n",
      "[[0]\n",
      " [1]\n",
      " [2]]\n",
      "*\n",
      "[[0 1 2]\n",
      " [1 2 3]\n",
      " [2 3 4]]\n"
     ]
    }
   ],
   "source": [
    "# Example 3\n",
    "a = np.arange(3).reshape(1,3)\n",
    "b = np.arange(3).reshape(3,1)\n",
    "\n",
    "print(a)\n",
    "print(b)\n",
    "\n",
    "print('*')\n",
    "print(a + b)"
   ]
  },
  {
   "cell_type": "code",
   "execution_count": 82,
   "id": "d809eead-1212-40d7-8334-66b31aa022ea",
   "metadata": {},
   "outputs": [
    {
     "name": "stdout",
     "output_type": "stream",
     "text": [
      "[[0 1 2]\n",
      " [1 2 3]\n",
      " [2 3 4]\n",
      " [3 4 5]]\n"
     ]
    }
   ],
   "source": [
    "# Example 4 \n",
    "a = np.arange(3).reshape(1,3)\n",
    "b = np.arange(4).reshape(4,1)\n",
    "\n",
    "print(a + b)"
   ]
  },
  {
   "cell_type": "code",
   "execution_count": 83,
   "id": "a0e9dfaf-4dee-434f-837c-baeca6a1fd35",
   "metadata": {},
   "outputs": [
    {
     "name": "stdout",
     "output_type": "stream",
     "text": [
      "[1]\n",
      "[[0 1]\n",
      " [2 3]]\n",
      "[[1 2]\n",
      " [3 4]]\n"
     ]
    }
   ],
   "source": [
    "# Example 5\n",
    "a = np.array([1])\n",
    "# shape -> (1,1)\n",
    "b = np.arange(4).reshape(2,2)\n",
    "# shape -> (2,2)\n",
    "\n",
    "print(a)\n",
    "print(b)\n",
    "\n",
    "print(a+b)"
   ]
  },
  {
   "cell_type": "code",
   "execution_count": 84,
   "id": "ccd5c00d-e8d2-4738-87ae-096c3d55856d",
   "metadata": {},
   "outputs": [
    {
     "name": "stdout",
     "output_type": "stream",
     "text": [
      "[[ 0  1  2  3]\n",
      " [ 4  5  6  7]\n",
      " [ 8  9 10 11]]\n",
      "[[ 0  1  2]\n",
      " [ 3  4  5]\n",
      " [ 6  7  8]\n",
      " [ 9 10 11]]\n"
     ]
    },
    {
     "ename": "ValueError",
     "evalue": "operands could not be broadcast together with shapes (3,4) (4,3) ",
     "output_type": "error",
     "traceback": [
      "\u001b[1;31m---------------------------------------------------------------------------\u001b[0m",
      "\u001b[1;31mValueError\u001b[0m                                Traceback (most recent call last)",
      "Cell \u001b[1;32mIn[84], line 8\u001b[0m\n\u001b[0;32m      5\u001b[0m \u001b[38;5;28mprint\u001b[39m(a)\n\u001b[0;32m      6\u001b[0m \u001b[38;5;28mprint\u001b[39m(b)\n\u001b[1;32m----> 8\u001b[0m \u001b[38;5;28mprint\u001b[39m(\u001b[43ma\u001b[49m\u001b[38;5;241;43m+\u001b[39;49m\u001b[43mb\u001b[49m)\n",
      "\u001b[1;31mValueError\u001b[0m: operands could not be broadcast together with shapes (3,4) (4,3) "
     ]
    }
   ],
   "source": [
    "# Example 6\n",
    "a = np.arange(12).reshape(3,4)\n",
    "b = np.arange(12).reshape(4,3)\n",
    "\n",
    "print(a)\n",
    "print(b)\n",
    "\n",
    "print(a+b)"
   ]
  },
  {
   "cell_type": "code",
   "execution_count": 85,
   "id": "a71b2da3-6e86-4b5f-a09b-a39a8d49ea16",
   "metadata": {},
   "outputs": [
    {
     "name": "stdout",
     "output_type": "stream",
     "text": [
      "[[ 0  1  2  3]\n",
      " [ 4  5  6  7]\n",
      " [ 8  9 10 11]\n",
      " [12 13 14 15]]\n",
      "[[0 1]\n",
      " [2 3]]\n"
     ]
    },
    {
     "ename": "ValueError",
     "evalue": "operands could not be broadcast together with shapes (4,4) (2,2) ",
     "output_type": "error",
     "traceback": [
      "\u001b[1;31m---------------------------------------------------------------------------\u001b[0m",
      "\u001b[1;31mValueError\u001b[0m                                Traceback (most recent call last)",
      "Cell \u001b[1;32mIn[85], line 8\u001b[0m\n\u001b[0;32m      5\u001b[0m \u001b[38;5;28mprint\u001b[39m(a)\n\u001b[0;32m      6\u001b[0m \u001b[38;5;28mprint\u001b[39m(b)\n\u001b[1;32m----> 8\u001b[0m \u001b[38;5;28mprint\u001b[39m(\u001b[43ma\u001b[49m\u001b[38;5;241;43m+\u001b[39;49m\u001b[43mb\u001b[49m)\n",
      "\u001b[1;31mValueError\u001b[0m: operands could not be broadcast together with shapes (4,4) (2,2) "
     ]
    }
   ],
   "source": [
    "# Example 7\n",
    "a = np.arange(16).reshape(4,4)\n",
    "b = np.arange(4).reshape(2,2)\n",
    "\n",
    "print(a)\n",
    "print(b)\n",
    "\n",
    "print(a+b)"
   ]
  },
  {
   "cell_type": "markdown",
   "id": "746e078a-ca50-4076-9a83-4b0648c6bd35",
   "metadata": {},
   "source": [
    "### Working with mathematical formulas.\n",
    "1. Sigmoid Function :-  ( Its values is always betwwen 0 and 1 ).\n",
    "2. Mean Squared Error\n",
    "3. Binary Cross Entropy  :- (Loss function of the Logistic Regression)."
   ]
  },
  {
   "cell_type": "code",
   "execution_count": 93,
   "id": "b9f3b230-408c-4ede-869b-39fadb98d4a0",
   "metadata": {},
   "outputs": [],
   "source": [
    "arr = np.random.randint(1, 10, 20)"
   ]
  },
  {
   "cell_type": "code",
   "execution_count": 109,
   "id": "0ecafe1a-0731-43df-a1d5-e40933f49f97",
   "metadata": {},
   "outputs": [
    {
     "name": "stdout",
     "output_type": "stream",
     "text": [
      "Values of x :  [6 1 3 1 7 9 2 8 2 9]\n",
      "Sigmoid Values corrosponding to the x values :  [0.99752738 0.73105858 0.95257413 0.73105858 0.99908895 0.99987661\n",
      " 0.88079708 0.99966465 0.88079708 0.99987661]\n"
     ]
    }
   ],
   "source": [
    "# Sigmoid function.\n",
    "def sigmoid(x):\n",
    "    return 1 / (1 + np.exp(-1 * x))\n",
    "\n",
    "\n",
    "x = np.random.randint(1, 10, 10)\n",
    "print('Values of x : ', x)\n",
    "print('Sigmoid Values corrosponding to the x values : ', sigmoid(x))"
   ]
  },
  {
   "cell_type": "code",
   "execution_count": 117,
   "id": "7bad22c1-6130-4306-9f4d-52e9ad38e5b8",
   "metadata": {},
   "outputs": [
    {
     "name": "stdout",
     "output_type": "stream",
     "text": [
      "[54 76 34 74 19]\n",
      "[81 90 19 86 85]\n",
      "1130.0\n"
     ]
    }
   ],
   "source": [
    "# Mean Square Error (MSE). \n",
    "def mse(actual_values, predicted_values): \n",
    "    ans = np.mean((actual_values - predicted_values)**2)\n",
    "    return ans\n",
    "\n",
    "actual_values = np.random.randint(1, 100, 5)\n",
    "predicted_values = np.random.randint(1, 100, 5)\n",
    "print(actual_values)\n",
    "print(predicted_values)\n",
    "print(mse(actual_values, predicted_values))"
   ]
  },
  {
   "cell_type": "code",
   "execution_count": 181,
   "id": "75c9f503-542f-48a0-8e5f-93907d80fb2d",
   "metadata": {},
   "outputs": [
    {
     "name": "stdout",
     "output_type": "stream",
     "text": [
      "1.035909147875966\n"
     ]
    }
   ],
   "source": [
    "# Binary Cross Entropy.\n",
    "def binary_cross_entropy(actual, predicted):\n",
    "    return -1 * np.mean(actual * np.log(predicted) + (1 - actual) * np.log(1 - predicted))\n",
    "\n",
    "\n",
    "actual = np.random.randint(0, 2, 20)\n",
    "predicted = np.round(np.random.random(20), 2)\n",
    "# print(actual)\n",
    "# print(predicted)\n",
    "\n",
    "print(binary_cross_entropy(actual, predicted))"
   ]
  },
  {
   "cell_type": "markdown",
   "id": "ed607239-8643-4dfd-bdeb-8344e80c2a04",
   "metadata": {},
   "source": [
    "### Working with missing values. "
   ]
  },
  {
   "cell_type": "code",
   "execution_count": 131,
   "id": "a930ab31-5212-42c4-b63c-e48419e24db2",
   "metadata": {},
   "outputs": [
    {
     "data": {
      "text/plain": [
       "array([ 1.,  2.,  3.,  4., nan,  5.])"
      ]
     },
     "execution_count": 131,
     "metadata": {},
     "output_type": "execute_result"
    }
   ],
   "source": [
    "# Working with missing values -> np.nan. \n",
    "arr = np.array([1, 2, 3, 4, np.nan, 5])\n",
    "arr"
   ]
  },
  {
   "cell_type": "code",
   "execution_count": 132,
   "id": "e098e683-e478-438b-9243-3183af414f43",
   "metadata": {},
   "outputs": [
    {
     "data": {
      "text/plain": [
       "array([1., 2., 3., 4., 5.])"
      ]
     },
     "execution_count": 132,
     "metadata": {},
     "output_type": "execute_result"
    }
   ],
   "source": [
    "arr[~np.isnan(arr)]"
   ]
  },
  {
   "cell_type": "markdown",
   "id": "e100d58e-703c-4cf7-add3-068bfaa79f0e",
   "metadata": {},
   "source": [
    "### Plotting Graphs. \n",
    "- plotting a 2D plot\n",
    "\n",
    "`NOTE : ` When we are generating data for plot a graph always generate data by using linspace() function."
   ]
  },
  {
   "cell_type": "code",
   "execution_count": 139,
   "id": "17a8ba7c-9c9d-469d-b453-d43644f69742",
   "metadata": {},
   "outputs": [],
   "source": [
    "# To plat a graph we need a library called Matplotlib.\n",
    "import matplotlib.pyplot as plt"
   ]
  },
  {
   "cell_type": "code",
   "execution_count": 142,
   "id": "c5e8e056-e0b4-4da1-854b-a3806d3bfb37",
   "metadata": {},
   "outputs": [
    {
     "data": {
      "image/png": "[encoded data removed]",
      "text/plain": [
       "<Figure size 640x480 with 1 Axes>"
      ]
     },
     "metadata": {},
     "output_type": "display_data"
    }
   ],
   "source": [
    "# <!-- Plot for x = y --> \n",
    "\n",
    "x = np.linspace(1, 100, 50)\n",
    "y = x \n",
    "\n",
    "plt.plot(x, y)\n",
    "plt.show()"
   ]
  },
  {
   "cell_type": "code",
   "execution_count": 153,
   "id": "ec400361-dd5d-4024-86a5-fabe5baee3b6",
   "metadata": {},
   "outputs": [
    {
     "data": {
      "image/png": "[encoded data removed]",
      "text/plain": [
       "<Figure size 640x480 with 1 Axes>"
      ]
     },
     "metadata": {},
     "output_type": "display_data"
    }
   ],
   "source": [
    "# <!-- Plot for y = x^2 -->\n",
    "\n",
    "x = np.linspace(-10, 10, 50)\n",
    "y = x ** 2\n",
    "\n",
    "# print(x)\n",
    "# print(y)\n",
    "\n",
    "plt.plot(x, y)\n",
    "plt.show()"
   ]
  },
  {
   "cell_type": "code",
   "execution_count": 154,
   "id": "247b2ba0-1d4f-4da3-b601-554964d445cb",
   "metadata": {},
   "outputs": [
    {
     "data": {
      "image/png": "[encoded data removed]",
      "text/plain": [
       "<Figure size 640x480 with 1 Axes>"
      ]
     },
     "metadata": {},
     "output_type": "display_data"
    }
   ],
   "source": [
    "# <!-- Plot for y = sin(x) -->\n",
    "\n",
    "x = np.linspace(-10, 10, 50)\n",
    "y = np.sin(x) \n",
    "\n",
    "# print(x) \n",
    "# print(y)  \n",
    "\n",
    "plt.plot(x, y) \n",
    "plt.show()"
   ]
  },
  {
   "cell_type": "code",
   "execution_count": 155,
   "id": "03b6e167-12d1-49aa-b84e-f306f33fcb67",
   "metadata": {},
   "outputs": [
    {
     "data": {
      "image/png": "[encoded data removed]",
      "text/plain": [
       "<Figure size 640x480 with 1 Axes>"
      ]
     },
     "metadata": {},
     "output_type": "display_data"
    }
   ],
   "source": [
    "# <!-- Plot for y = tan(x) -->\n",
    "\n",
    "x = np.linspace(-10, 10, 50)\n",
    "y = np.tan(x) \n",
    "\n",
    "# print(x) \n",
    "# print(y)  \n",
    "\n",
    "plt.plot(x, y) \n",
    "plt.show()"
   ]
  },
  {
   "cell_type": "code",
   "execution_count": 163,
   "id": "3d75a31e-12d8-404e-9a47-95c0b4df020d",
   "metadata": {},
   "outputs": [
    {
     "name": "stdout",
     "output_type": "stream",
     "text": [
      "[-10.          -9.59183673  -9.18367347  -8.7755102   -8.36734694\n",
      "  -7.95918367  -7.55102041  -7.14285714  -6.73469388  -6.32653061\n",
      "  -5.91836735  -5.51020408  -5.10204082  -4.69387755  -4.28571429\n",
      "  -3.87755102  -3.46938776  -3.06122449  -2.65306122  -2.24489796\n",
      "  -1.83673469  -1.42857143  -1.02040816  -0.6122449   -0.20408163\n",
      "   0.20408163   0.6122449    1.02040816   1.42857143   1.83673469\n",
      "   2.24489796   2.65306122   3.06122449   3.46938776   3.87755102\n",
      "   4.28571429   4.69387755   5.10204082   5.51020408   5.91836735\n",
      "   6.32653061   6.73469388   7.14285714   7.55102041   7.95918367\n",
      "   8.36734694   8.7755102    9.18367347   9.59183673  10.        ]\n"
     ]
    },
    {
     "name": "stderr",
     "output_type": "stream",
     "text": [
      "C:\\Users\\Mohd Uzaif\\AppData\\Local\\Temp\\ipykernel_12588\\4152129956.py:4: RuntimeWarning: invalid value encountered in log\n",
      "  y = x * np.log(x)\n"
     ]
    },
    {
     "data": {
      "image/png": "[encoded data removed]",
      "text/plain": [
       "<Figure size 640x480 with 1 Axes>"
      ]
     },
     "metadata": {},
     "output_type": "display_data"
    }
   ],
   "source": [
    "# <!-- Plot for y = x * log(x) -->\n",
    "\n",
    "x = np.linspace(-10, 10, 50)\n",
    "y = x * np.log(x)\n",
    "\n",
    "# print(x) \n",
    "# print(y)  \n",
    "\n",
    "plt.plot(x, y) \n",
    "plt.show()"
   ]
  },
  {
   "cell_type": "code",
   "execution_count": 166,
   "id": "dd8d0442-e2f4-420a-a841-a26a65cf9a3c",
   "metadata": {},
   "outputs": [
    {
     "data": {
      "image/png": "[encoded data removed]",
      "text/plain": [
       "<Figure size 640x480 with 1 Axes>"
      ]
     },
     "metadata": {},
     "output_type": "display_data"
    }
   ],
   "source": [
    "# <!-- Plot for y = sigmoid(x) -->\n",
    "\n",
    "x = np.linspace(-10, 10, 50)\n",
    "y = 1 / (1 + np.exp(-x))\n",
    "\n",
    "# print(x) \n",
    "# print(y)  \n",
    "\n",
    "plt.plot(x, y) \n",
    "plt.show()"
   ]
  },
  {
   "cell_type": "code",
   "execution_count": null,
   "id": "cec0e168-3f31-4e0c-ad96-c6f7b878fd0b",
   "metadata": {},
   "outputs": [],
   "source": []
  }
 ],
 "metadata": {
  "kernelspec": {
   "display_name": "Python 3 (ipykernel)",
   "language": "python",
   "name": "python3"
  },
  "language_info": {
   "codemirror_mode": {
    "name": "ipython",
    "version": 3
   },
   "file_extension": ".py",
   "mimetype": "text/x-python",
   "name": "python",
   "nbconvert_exporter": "python",
   "pygments_lexer": "ipython3",
   "version": "3.13.1"
  }
 },
 "nbformat": 4,
 "nbformat_minor": 5
}
