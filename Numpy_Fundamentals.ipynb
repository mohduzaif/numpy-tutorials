{
 "cells": [
  {
   "cell_type": "markdown",
   "id": "f9af18fb-f0cc-400d-bae3-2e73a5f02cf5",
   "metadata": {},
   "source": [
    "## Numpy Fundamentals."
   ]
  },
  {
   "cell_type": "markdown",
   "id": "3acc1896-a56f-4ee8-b906-9829a12f2817",
   "metadata": {},
   "source": [
    "### What is numpy?\n",
    "\n",
    "NumPy is the fundamental package for scientific computing in Python. It is a Python library that provides a multidimensional array object, various derived objects (such as masked arrays and matrices), and an assortment of routines for fast operations on arrays, including mathematical, logical, shape manipulation, sorting, selecting, I/O, discrete Fourier transforms, basic linear algebra, basic statistical operations, random simulation and much more.\n",
    "\n",
    "\n",
    "At the core of the NumPy package, is the ndarray object. This encapsulates n-dimensional arrays of homogeneous data types"
   ]
  },
  {
   "cell_type": "markdown",
   "id": "3ae12619-a4c6-4c85-ae5f-3ffb0563dcda",
   "metadata": {},
   "source": [
    "### Numpy Arrays Vs Python Sequences\n",
    "\n",
    "- NumPy arrays have a fixed size at creation, unlike Python lists (which can grow dynamically). Changing the size of an ndarray will create a new array and delete the original.\n",
    "\n",
    "- The elements in a NumPy array are all required to be of the same data type, and thus will be the same size in memory.\n",
    "\n",
    "- NumPy arrays facilitate advanced mathematical and other types of operations on large numbers of data. Typically, such operations are executed more efficiently and with less code than is possible using Python’s built-in sequences.\n",
    "\n",
    "- A growing plethora of scientific and mathematical Python-based packages are using NumPy arrays; though these typically support Python-sequence input, they convert such input to NumPy arrays prior to processing, and they often output NumPy arrays."
   ]
  },
  {
   "cell_type": "markdown",
   "id": "8e2133e8-59d4-49ce-959c-ee1259ba5747",
   "metadata": {},
   "source": [
    "### Creating Numpy Arrays."
   ]
  },
  {
   "cell_type": "code",
   "execution_count": 1,
   "id": "b04fa54f-79c5-4e0b-9107-ba7934eb674c",
   "metadata": {},
   "outputs": [],
   "source": [
    "import numpy as np "
   ]
  },
  {
   "cell_type": "markdown",
   "id": "db6991e4-12fa-4691-a4a6-d571804088b5",
   "metadata": {},
   "source": [
    "#### 1. First is np.array() function."
   ]
  },
  {
   "cell_type": "code",
   "execution_count": 6,
   "id": "6f6df0d9-539b-4ffb-af0f-a85aab52d5d5",
   "metadata": {},
   "outputs": [
    {
     "data": {
      "text/plain": [
       "array([1, 2, 3, 4])"
      ]
     },
     "execution_count": 6,
     "metadata": {},
     "output_type": "execute_result"
    }
   ],
   "source": [
    "# 1D array. \n",
    "a1 = np.array([1, 2, 3, 4])\n",
    "a1"
   ]
  },
  {
   "cell_type": "code",
   "execution_count": 7,
   "id": "b2895508-2edd-4da1-8f5a-9824c74b7769",
   "metadata": {},
   "outputs": [
    {
     "data": {
      "text/plain": [
       "array([[1, 2, 3],\n",
       "       [4, 5, 6]])"
      ]
     },
     "execution_count": 7,
     "metadata": {},
     "output_type": "execute_result"
    }
   ],
   "source": [
    "# 2D numpy array also called Matrix.\n",
    "a2 = np.array([[1, 2, 3], [4, 5, 6]])\n",
    "a2"
   ]
  },
  {
   "cell_type": "code",
   "execution_count": 10,
   "id": "20fb394b-f318-4028-a022-ea8ad83784bb",
   "metadata": {},
   "outputs": [
    {
     "data": {
      "text/plain": [
       "array([[[1, 2],\n",
       "        [4, 5]],\n",
       "\n",
       "       [[6, 7],\n",
       "        [8, 9]]])"
      ]
     },
     "execution_count": 10,
     "metadata": {},
     "output_type": "execute_result"
    }
   ],
   "source": [
    "# 3D numpy array also called tensor. \n",
    "a3 = np.array(\n",
    "    [\n",
    "        [[1, 2], [4, 5]], \n",
    "        [[6, 7], [8, 9]]\n",
    "    ]\n",
    ")\n",
    "a3"
   ]
  },
  {
   "cell_type": "markdown",
   "id": "6cbcc1fc-b139-41eb-ae24-0ee840e3109c",
   "metadata": {},
   "source": [
    "#### 2. Using dtype."
   ]
  },
  {
   "cell_type": "code",
   "execution_count": 17,
   "id": "0fc38fd6-8510-4735-a076-241d5882d80f",
   "metadata": {},
   "outputs": [
    {
     "name": "stdout",
     "output_type": "stream",
     "text": [
      "[1. 2. 3.]\n",
      "[4 5 6]\n",
      "[9.+0.j 8.+0.j 7.+0.j]\n",
      "[ True False  True]\n"
     ]
    }
   ],
   "source": [
    "a1 = np.array([1, 2, 3], dtype = float)\n",
    "a2 = np.array([4, 5, 6], dtype = int)\n",
    "a3 = np.array([9, 8, 7], dtype = complex)\n",
    "a4 = np.array([9, 0, 6], dtype = bool)\n",
    "\n",
    "print(a1)\n",
    "print(a2) \n",
    "print(a3)\n",
    "print(a4)"
   ]
  },
  {
   "cell_type": "markdown",
   "id": "204c411d-dc56-4918-babb-1aebdd62d73f",
   "metadata": {},
   "source": [
    "#### 3. np.arange() function to make a 1D array."
   ]
  },
  {
   "cell_type": "code",
   "execution_count": 18,
   "id": "1479c3c7-e833-4fa8-831c-58a5765ad878",
   "metadata": {},
   "outputs": [
    {
     "data": {
      "text/plain": [
       "array([0, 1, 2, 3, 4, 5, 6, 7, 8, 9])"
      ]
     },
     "execution_count": 18,
     "metadata": {},
     "output_type": "execute_result"
    }
   ],
   "source": [
    "np.arange(10)"
   ]
  },
  {
   "cell_type": "code",
   "execution_count": 21,
   "id": "3c4a5c33-1778-40a2-b772-5ae4ff6ef0e7",
   "metadata": {},
   "outputs": [
    {
     "data": {
      "text/plain": [
       "array([[ 0,  1,  2,  3],\n",
       "       [ 4,  5,  6,  7],\n",
       "       [ 8,  9, 10, 11]])"
      ]
     },
     "execution_count": 21,
     "metadata": {},
     "output_type": "execute_result"
    }
   ],
   "source": [
    "# when we are doing reshape, multiplicaation of the numbers always equals total numbers of element.\n",
    "np.arange(12).reshape(3, 4)"
   ]
  },
  {
   "cell_type": "code",
   "execution_count": 22,
   "id": "274543a1-bc52-44e1-add5-4c3bd18b2ad8",
   "metadata": {},
   "outputs": [
    {
     "data": {
      "text/plain": [
       "array([[0, 1, 2, 3, 4],\n",
       "       [5, 6, 7, 8, 9]])"
      ]
     },
     "execution_count": 22,
     "metadata": {},
     "output_type": "execute_result"
    }
   ],
   "source": [
    "np.arange(10).reshape(2, 5)"
   ]
  },
  {
   "cell_type": "code",
   "execution_count": 23,
   "id": "19912df0-41f2-4d19-a80c-96a9c044c6c0",
   "metadata": {},
   "outputs": [
    {
     "data": {
      "text/plain": [
       "array([[[[ 0,  1],\n",
       "         [ 2,  3]],\n",
       "\n",
       "        [[ 4,  5],\n",
       "         [ 6,  7]]],\n",
       "\n",
       "\n",
       "       [[[ 8,  9],\n",
       "         [10, 11]],\n",
       "\n",
       "        [[12, 13],\n",
       "         [14, 15]]]])"
      ]
     },
     "execution_count": 23,
     "metadata": {},
     "output_type": "execute_result"
    }
   ],
   "source": [
    "np.arange(16).reshape(2, 2, 2, 2)"
   ]
  },
  {
   "cell_type": "markdown",
   "id": "6d1a43df-3b79-42ba-8b99-6073de71fc69",
   "metadata": {},
   "source": [
    "#### 4. np.ones() function, and np.zeros() function. "
   ]
  },
  {
   "cell_type": "code",
   "execution_count": 31,
   "id": "f838ec3c-ee08-4c61-9b84-7090b4ff0012",
   "metadata": {},
   "outputs": [
    {
     "data": {
      "text/plain": [
       "array([[1., 1.],\n",
       "       [1., 1.],\n",
       "       [1., 1.]])"
      ]
     },
     "execution_count": 31,
     "metadata": {},
     "output_type": "execute_result"
    }
   ],
   "source": [
    "np.ones((3, 2))"
   ]
  },
  {
   "cell_type": "code",
   "execution_count": 32,
   "id": "ce780279-16c6-48b5-983e-9bdf9f4816e8",
   "metadata": {},
   "outputs": [
    {
     "data": {
      "text/plain": [
       "array([[0., 0., 0., 0.],\n",
       "       [0., 0., 0., 0.]])"
      ]
     },
     "execution_count": 32,
     "metadata": {},
     "output_type": "execute_result"
    }
   ],
   "source": [
    "np.zeros((2, 4))"
   ]
  },
  {
   "cell_type": "markdown",
   "id": "d9cacf47-da57-42ae-8d9b-287b6fb8581e",
   "metadata": {},
   "source": [
    "#### 5. np.random.random() function, and np.linspace() function. "
   ]
  },
  {
   "cell_type": "code",
   "execution_count": 36,
   "id": "6ccb048a-1787-4943-aafd-9cc8b7e3289e",
   "metadata": {},
   "outputs": [
    {
     "data": {
      "text/plain": [
       "array([[0.61763745, 0.79377729],\n",
       "       [0.50884124, 0.3664995 ],\n",
       "       [0.50002532, 0.90525303]])"
      ]
     },
     "execution_count": 36,
     "metadata": {},
     "output_type": "execute_result"
    }
   ],
   "source": [
    "# it will generate the number between 0 and 1. \n",
    "np.random.random((3, 2))"
   ]
  },
  {
   "cell_type": "code",
   "execution_count": 42,
   "id": "3d19c4d1-15e2-4ab0-a48e-aab0e8cfbcf4",
   "metadata": {},
   "outputs": [
    {
     "data": {
      "text/plain": [
       "array([10., 20., 30., 40., 50., 60., 70., 80., 90.])"
      ]
     },
     "execution_count": 42,
     "metadata": {},
     "output_type": "execute_result"
    }
   ],
   "source": [
    "# np.linspace(startingPoint, endPoint, difference)\n",
    "np.linspace(10, 90, 9)"
   ]
  },
  {
   "cell_type": "markdown",
   "id": "04c943ca-d0b4-4d2f-8167-079d854ef246",
   "metadata": {},
   "source": [
    "#### 6. np.identity() function to generate the identity matrix."
   ]
  },
  {
   "cell_type": "code",
   "execution_count": 43,
   "id": "5e7cac5d-5b35-4d91-9d26-43bd3f0dcf37",
   "metadata": {},
   "outputs": [
    {
     "data": {
      "text/plain": [
       "array([[1., 0., 0.],\n",
       "       [0., 1., 0.],\n",
       "       [0., 0., 1.]])"
      ]
     },
     "execution_count": 43,
     "metadata": {},
     "output_type": "execute_result"
    }
   ],
   "source": [
    "np.identity(3)"
   ]
  },
  {
   "cell_type": "code",
   "execution_count": 45,
   "id": "54333c0b-cd08-4d84-a2f1-3a6aa9ea785b",
   "metadata": {},
   "outputs": [
    {
     "data": {
      "text/plain": [
       "array([[1., 0., 0., 0., 0., 0.],\n",
       "       [0., 1., 0., 0., 0., 0.],\n",
       "       [0., 0., 1., 0., 0., 0.],\n",
       "       [0., 0., 0., 1., 0., 0.],\n",
       "       [0., 0., 0., 0., 1., 0.],\n",
       "       [0., 0., 0., 0., 0., 1.]])"
      ]
     },
     "execution_count": 45,
     "metadata": {},
     "output_type": "execute_result"
    }
   ],
   "source": [
    "np.identity(6)"
   ]
  },
  {
   "cell_type": "markdown",
   "id": "1779df64-0e39-41bb-8d2a-963fdb2c3396",
   "metadata": {},
   "source": [
    "### Array Attributes. \n",
    "- As we know array is the object of numpy class, so it has a authority to access attributes of numpy class."
   ]
  },
  {
   "cell_type": "code",
   "execution_count": 48,
   "id": "84b05cc3-a3f3-45d7-9f65-ce40ef22eccb",
   "metadata": {},
   "outputs": [],
   "source": [
    "a1 = np.arange(10, dtype = np.int32)\n",
    "a2 = np.arange(12).reshape(3, 4)\n",
    "a3 = np.arange(27).reshape(3, 3, 3)"
   ]
  },
  {
   "cell_type": "code",
   "execution_count": 51,
   "id": "0b5dfac3-e862-4e35-be31-6d723c36aebd",
   "metadata": {},
   "outputs": [
    {
     "name": "stdout",
     "output_type": "stream",
     "text": [
      "[0 1 2 3 4 5 6 7 8 9]\n",
      "**************************************************\n",
      "[[ 0  1  2  3]\n",
      " [ 4  5  6  7]\n",
      " [ 8  9 10 11]]\n",
      "**************************************************\n",
      "[[[ 0  1  2]\n",
      "  [ 3  4  5]\n",
      "  [ 6  7  8]]\n",
      "\n",
      " [[ 9 10 11]\n",
      "  [12 13 14]\n",
      "  [15 16 17]]\n",
      "\n",
      " [[18 19 20]\n",
      "  [21 22 23]\n",
      "  [24 25 26]]]\n"
     ]
    }
   ],
   "source": [
    "print(a1)\n",
    "print('*' * 50)\n",
    "print(a2)\n",
    "print('*' * 50)\n",
    "print(a3)"
   ]
  },
  {
   "cell_type": "code",
   "execution_count": 54,
   "id": "b9293f30-13d0-4097-8359-52cc194a5ceb",
   "metadata": {},
   "outputs": [
    {
     "name": "stdout",
     "output_type": "stream",
     "text": [
      "1\n",
      "2\n",
      "3\n"
     ]
    }
   ],
   "source": [
    "# ndim --> tell the dimension of the array. \n",
    "print(a1.ndim) \n",
    "print(a2.ndim)\n",
    "print(a3.ndim)"
   ]
  },
  {
   "cell_type": "code",
   "execution_count": 55,
   "id": "83f38f20-5405-4789-b73e-34891676d77c",
   "metadata": {},
   "outputs": [
    {
     "name": "stdout",
     "output_type": "stream",
     "text": [
      "(10,)\n",
      "(3, 4)\n",
      "(3, 3, 3)\n"
     ]
    }
   ],
   "source": [
    "# shape --> tell the shape of the array. \n",
    "print(a1.shape) \n",
    "print(a2.shape)\n",
    "print(a3.shape)"
   ]
  },
  {
   "cell_type": "code",
   "execution_count": 58,
   "id": "cbfad8df-ec3a-4dff-873c-2ce77597e0a1",
   "metadata": {},
   "outputs": [
    {
     "name": "stdout",
     "output_type": "stream",
     "text": [
      "10\n",
      "12\n",
      "27\n"
     ]
    }
   ],
   "source": [
    "# size --> tell the number of element in the array. \n",
    "print(a1.size)\n",
    "print(a2.size)\n",
    "print(a3.size)"
   ]
  },
  {
   "cell_type": "code",
   "execution_count": 60,
   "id": "da3c1927-27bd-4697-ba7c-5dc0f2b11039",
   "metadata": {},
   "outputs": [
    {
     "name": "stdout",
     "output_type": "stream",
     "text": [
      "4\n",
      "8\n",
      "8\n"
     ]
    }
   ],
   "source": [
    "# itemsize  -> tell the size of the each item\n",
    "print(a1.itemsize)\n",
    "print(a2.itemsize)\n",
    "print(a3.itemsize)"
   ]
  },
  {
   "cell_type": "code",
   "execution_count": 62,
   "id": "984ec122-e0ff-43ab-afcd-afd40f528ef9",
   "metadata": {},
   "outputs": [
    {
     "name": "stdout",
     "output_type": "stream",
     "text": [
      "int32\n",
      "int64\n",
      "int64\n"
     ]
    }
   ],
   "source": [
    "# dtype. \n",
    "print(a1.dtype)\n",
    "print(a2.dtype) \n",
    "print(a3.dtype) "
   ]
  },
  {
   "cell_type": "markdown",
   "id": "5e403f76-f2c4-4866-8edb-b766ec458a25",
   "metadata": {},
   "source": [
    "### Changing datatype."
   ]
  },
  {
   "cell_type": "code",
   "execution_count": 64,
   "id": "cd76d0ae-26e0-48a5-bddb-1077451639ee",
   "metadata": {},
   "outputs": [
    {
     "data": {
      "text/plain": [
       "array([[ 0,  1,  2,  3],\n",
       "       [ 4,  5,  6,  7],\n",
       "       [ 8,  9, 10, 11]], dtype=int32)"
      ]
     },
     "execution_count": 64,
     "metadata": {},
     "output_type": "execute_result"
    }
   ],
   "source": [
    "# astype. \n",
    "a2.astype(np.int32)"
   ]
  },
  {
   "cell_type": "markdown",
   "id": "3da125a1-b7be-452b-930b-7812379649e9",
   "metadata": {},
   "source": [
    "### Array Operations. "
   ]
  },
  {
   "cell_type": "code",
   "execution_count": 67,
   "id": "c1e3235c-2fff-4cb2-82f6-b18ca3a116f5",
   "metadata": {},
   "outputs": [],
   "source": [
    "a1 = np.arange(12).reshape(3,4)\n",
    "a2 = np.arange(12,24).reshape(3,4)"
   ]
  },
  {
   "cell_type": "code",
   "execution_count": 69,
   "id": "d6896a3e-5cd4-4bb1-9ed2-c1d03ae3d788",
   "metadata": {},
   "outputs": [
    {
     "name": "stdout",
     "output_type": "stream",
     "text": [
      "[[ 0  1  2  3]\n",
      " [ 4  5  6  7]\n",
      " [ 8  9 10 11]]\n",
      "**************************************************\n",
      "[[12 13 14 15]\n",
      " [16 17 18 19]\n",
      " [20 21 22 23]]\n"
     ]
    }
   ],
   "source": [
    "print(a1)\n",
    "print('*' * 50)\n",
    "print(a2)"
   ]
  },
  {
   "cell_type": "code",
   "execution_count": 79,
   "id": "b3a5abe3-ca9e-431d-88cd-162048a39e6f",
   "metadata": {},
   "outputs": [],
   "source": [
    "# Scaler Operation. "
   ]
  },
  {
   "cell_type": "code",
   "execution_count": 80,
   "id": "b428d086-4e22-409e-9e3c-319873229611",
   "metadata": {},
   "outputs": [
    {
     "data": {
      "text/plain": [
       "array([[ 0,  2,  4,  6],\n",
       "       [ 8, 10, 12, 14],\n",
       "       [16, 18, 20, 22]])"
      ]
     },
     "execution_count": 80,
     "metadata": {},
     "output_type": "execute_result"
    }
   ],
   "source": [
    "a1 * 2"
   ]
  },
  {
   "cell_type": "code",
   "execution_count": 81,
   "id": "620af11a-1a7d-4d02-ba66-7c38e1931471",
   "metadata": {},
   "outputs": [
    {
     "data": {
      "text/plain": [
       "array([[  0,   1,   4,   9],\n",
       "       [ 16,  25,  36,  49],\n",
       "       [ 64,  81, 100, 121]])"
      ]
     },
     "execution_count": 81,
     "metadata": {},
     "output_type": "execute_result"
    }
   ],
   "source": [
    "a1 ** 2"
   ]
  },
  {
   "cell_type": "code",
   "execution_count": 82,
   "id": "82f68bb7-0f1a-4075-a27a-cc9897d4997d",
   "metadata": {},
   "outputs": [
    {
     "data": {
      "text/plain": [
       "array([[ 2,  3,  4,  5],\n",
       "       [ 6,  7,  8,  9],\n",
       "       [10, 11, 12, 13]])"
      ]
     },
     "execution_count": 82,
     "metadata": {},
     "output_type": "execute_result"
    }
   ],
   "source": [
    "2 + a1"
   ]
  },
  {
   "cell_type": "code",
   "execution_count": 83,
   "id": "8fd086e9-dbbf-4ac9-916d-bccab65a4be5",
   "metadata": {},
   "outputs": [
    {
     "data": {
      "text/plain": [
       "array([[-2, -1,  0,  1],\n",
       "       [ 2,  3,  4,  5],\n",
       "       [ 6,  7,  8,  9]])"
      ]
     },
     "execution_count": 83,
     "metadata": {},
     "output_type": "execute_result"
    }
   ],
   "source": [
    "a1 - 2"
   ]
  },
  {
   "cell_type": "code",
   "execution_count": 84,
   "id": "a036d0f4-8fa7-4198-9150-e21e3a6f25bd",
   "metadata": {},
   "outputs": [],
   "source": [
    "# Vector Operation. "
   ]
  },
  {
   "cell_type": "code",
   "execution_count": 85,
   "id": "2a5ad9a1-3b7c-4fe2-a34c-6716d1c30db8",
   "metadata": {},
   "outputs": [
    {
     "data": {
      "text/plain": [
       "array([[12, 14, 16, 18],\n",
       "       [20, 22, 24, 26],\n",
       "       [28, 30, 32, 34]])"
      ]
     },
     "execution_count": 85,
     "metadata": {},
     "output_type": "execute_result"
    }
   ],
   "source": [
    "a1 + a2"
   ]
  },
  {
   "cell_type": "code",
   "execution_count": 86,
   "id": "c34dea2c-b32b-4ea6-9480-54deb8e2c139",
   "metadata": {},
   "outputs": [
    {
     "data": {
      "text/plain": [
       "array([[  0,  13,  28,  45],\n",
       "       [ 64,  85, 108, 133],\n",
       "       [160, 189, 220, 253]])"
      ]
     },
     "execution_count": 86,
     "metadata": {},
     "output_type": "execute_result"
    }
   ],
   "source": [
    "a1 * a2"
   ]
  },
  {
   "cell_type": "code",
   "execution_count": 87,
   "id": "1cf3baa9-d9d0-4a8b-90cb-d13ad2e11add",
   "metadata": {},
   "outputs": [
    {
     "data": {
      "text/plain": [
       "array([[0.        , 0.07692308, 0.14285714, 0.2       ],\n",
       "       [0.25      , 0.29411765, 0.33333333, 0.36842105],\n",
       "       [0.4       , 0.42857143, 0.45454545, 0.47826087]])"
      ]
     },
     "execution_count": 87,
     "metadata": {},
     "output_type": "execute_result"
    }
   ],
   "source": [
    "a1 / a2"
   ]
  },
  {
   "cell_type": "code",
   "execution_count": 88,
   "id": "3e71e573-a56f-4da5-b7b7-e4b4c0415738",
   "metadata": {},
   "outputs": [
    {
     "data": {
      "text/plain": [
       "array([[-12, -12, -12, -12],\n",
       "       [-12, -12, -12, -12],\n",
       "       [-12, -12, -12, -12]])"
      ]
     },
     "execution_count": 88,
     "metadata": {},
     "output_type": "execute_result"
    }
   ],
   "source": [
    "a1 - a2"
   ]
  },
  {
   "cell_type": "code",
   "execution_count": 89,
   "id": "303b5677-1158-4821-b442-216e860ba42d",
   "metadata": {},
   "outputs": [
    {
     "data": {
      "text/plain": [
       "array([[                   0,                    1,                16384,\n",
       "                    14348907],\n",
       "       [          4294967296,         762939453125,      101559956668416,\n",
       "           11398895185373143],\n",
       "       [ 1152921504606846976, -1261475310744950487,  1864712049423024128,\n",
       "         6839173302027254275]])"
      ]
     },
     "execution_count": 89,
     "metadata": {},
     "output_type": "execute_result"
    }
   ],
   "source": [
    "a1 ** a2"
   ]
  },
  {
   "cell_type": "code",
   "execution_count": 91,
   "id": "8654d990-6d84-49a4-91f0-dc77a691322b",
   "metadata": {},
   "outputs": [
    {
     "name": "stdout",
     "output_type": "stream",
     "text": [
      "[[ 0  1  2  3]\n",
      " [ 4  5  6  7]\n",
      " [ 8  9 10 11]]\n"
     ]
    },
    {
     "data": {
      "text/plain": [
       "array([[False, False, False, False],\n",
       "       [False,  True,  True,  True],\n",
       "       [ True,  True,  True,  True]])"
      ]
     },
     "execution_count": 91,
     "metadata": {},
     "output_type": "execute_result"
    }
   ],
   "source": [
    "# relational operation. \n",
    "print(a1)\n",
    "\n",
    "a1 >= 5"
   ]
  },
  {
   "cell_type": "markdown",
   "id": "b7faef7a-a0e5-4096-a04c-825201e36627",
   "metadata": {},
   "source": [
    "### Array Functions."
   ]
  },
  {
   "cell_type": "code",
   "execution_count": 110,
   "id": "65dd7c6e-ca71-44a9-89bb-a6d318b5135c",
   "metadata": {},
   "outputs": [
    {
     "data": {
      "text/plain": [
       "array([ 1,  3,  5,  7,  9, 11, 13])"
      ]
     },
     "execution_count": 110,
     "metadata": {},
     "output_type": "execute_result"
    }
   ],
   "source": [
    "a1 = np.arange(1, 15, 2)\n",
    "a2 = np.arange(12, 24).reshape(3, 4)\n",
    "a3 = np.arange(27).reshape(3, 3, 3)\n",
    "a1"
   ]
  },
  {
   "cell_type": "markdown",
   "id": "9380cbfe-3d1f-4272-bad3-bef187bd3677",
   "metadata": {},
   "source": [
    "##### max/min/sum/prod"
   ]
  },
  {
   "cell_type": "code",
   "execution_count": 111,
   "id": "fb9ebf15-4d19-4ba2-bc9b-98da7c0291b6",
   "metadata": {},
   "outputs": [
    {
     "name": "stdout",
     "output_type": "stream",
     "text": [
      "13\n",
      "[20 21 22 23]\n",
      "[15 19 23]\n"
     ]
    }
   ],
   "source": [
    "# max function. \n",
    "print(np.max(a1))\n",
    "# axis = 0 means column, and axis = 1 means row. \n",
    "print(np.max(a2, axis=0))\n",
    "\n",
    "print(np.max(a2, axis = 1))"
   ]
  },
  {
   "cell_type": "code",
   "execution_count": 112,
   "id": "b7f90ddb-b461-4223-abf0-4171e0055ffc",
   "metadata": {},
   "outputs": [
    {
     "data": {
      "text/plain": [
       "array([[12, 13, 14, 15],\n",
       "       [16, 17, 18, 19],\n",
       "       [20, 21, 22, 23]])"
      ]
     },
     "execution_count": 112,
     "metadata": {},
     "output_type": "execute_result"
    }
   ],
   "source": [
    "a2"
   ]
  },
  {
   "cell_type": "code",
   "execution_count": 114,
   "id": "3ae31db1-299d-40fb-b186-2ad3ba26ac8a",
   "metadata": {},
   "outputs": [
    {
     "name": "stdout",
     "output_type": "stream",
     "text": [
      "12\n",
      "[12 13 14 15]\n",
      "[12 16 20]\n"
     ]
    }
   ],
   "source": [
    "# min function. \n",
    "print(np.min(a2))\n",
    "\n",
    "# axis = 0 means column, and axis = 1 means row. \n",
    "print(np.min(a2, axis=0))\n",
    "\n",
    "print(np.min(a2, axis = 1))"
   ]
  },
  {
   "cell_type": "code",
   "execution_count": 121,
   "id": "3c5855bb-7336-4730-834f-727f9cc191c1",
   "metadata": {},
   "outputs": [
    {
     "name": "stdout",
     "output_type": "stream",
     "text": [
      "210\n",
      "[48 51 54 57]\n",
      "[54 70 86]\n"
     ]
    }
   ],
   "source": [
    "# sum function\n",
    "print(np.sum(a2))\n",
    "\n",
    "# axis = 0 means column, and axis = 1 means row. \n",
    "print(np.sum(a2, axis=0))\n",
    "\n",
    "print(np.sum(a2, axis = 1))"
   ]
  },
  {
   "cell_type": "code",
   "execution_count": 122,
   "id": "3e503189-8cae-4c5a-8cce-24f3a191d6a1",
   "metadata": {},
   "outputs": [
    {
     "name": "stdout",
     "output_type": "stream",
     "text": [
      "647647525324800\n",
      "[3840 4641 5544 6555]\n",
      "[ 32760  93024 212520]\n"
     ]
    }
   ],
   "source": [
    "# prod function\n",
    "print(np.prod(a2))\n",
    "\n",
    "# axis = 0 means column, and axis = 1 means row. \n",
    "print(np.prod(a2, axis=0))\n",
    "\n",
    "print(np.prod(a2, axis = 1))"
   ]
  },
  {
   "cell_type": "markdown",
   "id": "3b07e5f6-e594-4668-be2e-0971516ffa93",
   "metadata": {},
   "source": [
    "##### mean/median/std/var"
   ]
  },
  {
   "cell_type": "code",
   "execution_count": 123,
   "id": "198e496a-cae0-4932-b091-b8ce075c2072",
   "metadata": {},
   "outputs": [],
   "source": [
    "a1 = np.arange(1, 15, 2)\n",
    "a2 = np.arange(12, 24).reshape(3, 4)\n",
    "a3 = np.arange(27).reshape(3, 3, 3)"
   ]
  },
  {
   "cell_type": "code",
   "execution_count": 125,
   "id": "0ea2e6ab-c83f-45c8-a865-62cb3cdcb57e",
   "metadata": {},
   "outputs": [
    {
     "name": "stdout",
     "output_type": "stream",
     "text": [
      "17.5\n",
      "[16. 17. 18. 19.]\n",
      "[13.5 17.5 21.5]\n"
     ]
    }
   ],
   "source": [
    "# mean function. \n",
    "print(np.mean(a2))\n",
    "\n",
    "# axis = 0 means column, and axis = 1 means row. \n",
    "print(np.mean(a2, axis=0))\n",
    "\n",
    "print(np.mean(a2, axis = 1))"
   ]
  },
  {
   "cell_type": "code",
   "execution_count": 126,
   "id": "5debb83d-23fd-4187-9fe1-bffc20fba5f1",
   "metadata": {},
   "outputs": [
    {
     "name": "stdout",
     "output_type": "stream",
     "text": [
      "17.5\n",
      "[16. 17. 18. 19.]\n",
      "[13.5 17.5 21.5]\n"
     ]
    }
   ],
   "source": [
    "# median function. \n",
    "print(np.median(a2))\n",
    "\n",
    "# axis = 0 means column, and axis = 1 means row. \n",
    "print(np.median(a2, axis=0))\n",
    "\n",
    "print(np.median(a2, axis = 1))"
   ]
  },
  {
   "cell_type": "code",
   "execution_count": 127,
   "id": "3a4cbeeb-c0f4-4349-94ee-ff633810a186",
   "metadata": {},
   "outputs": [
    {
     "name": "stdout",
     "output_type": "stream",
     "text": [
      "3.452052529534663\n",
      "[3.26598632 3.26598632 3.26598632 3.26598632]\n",
      "[1.11803399 1.11803399 1.11803399]\n"
     ]
    }
   ],
   "source": [
    "# standarrd deviation.\n",
    "print(np.std(a2))\n",
    "\n",
    "# axis = 0 means column, and axis = 1 means row. \n",
    "print(np.std(a2, axis=0))\n",
    "\n",
    "print(np.std(a2, axis = 1))"
   ]
  },
  {
   "cell_type": "code",
   "execution_count": 129,
   "id": "2a539848-0dd7-46ba-8e2e-a4190e885382",
   "metadata": {},
   "outputs": [
    {
     "name": "stdout",
     "output_type": "stream",
     "text": [
      "11.916666666666666\n",
      "[10.66666667 10.66666667 10.66666667 10.66666667]\n",
      "[1.25 1.25 1.25]\n"
     ]
    }
   ],
   "source": [
    "# variance function \n",
    "print(np.var(a2))\n",
    "\n",
    "# axis = 0 means column, and axis = 1 means row. \n",
    "print(np.var(a2, axis=0))\n",
    "\n",
    "print(np.var(a2, axis = 1))"
   ]
  },
  {
   "cell_type": "code",
   "execution_count": 135,
   "id": "8f01dfea-2e44-457a-a335-c0b250677a98",
   "metadata": {},
   "outputs": [
    {
     "name": "stdout",
     "output_type": "stream",
     "text": [
      "[ 0.84147098  0.14112001 -0.95892427  0.6569866   0.41211849 -0.99999021\n",
      "  0.42016704]\n",
      "****************************************************************************************************************************************\n",
      "[ 0.54030231 -0.9899925   0.28366219  0.75390225 -0.91113026  0.0044257\n",
      "  0.90744678]\n",
      "****************************************************************************************************************************************\n",
      "[ 1.55740772e+00 -1.42546543e-01 -3.38051501e+00  8.71447983e-01\n",
      " -4.52315659e-01 -2.25950846e+02  4.63021133e-01]\n",
      "****************************************************************************************************************************************\n"
     ]
    }
   ],
   "source": [
    "# trigonomoetric functions. \n",
    "print(np.sin(a1))\n",
    "print('**' * 68)\n",
    "\n",
    "print(np.cos(a1))\n",
    "print('**' * 68)\n",
    "\n",
    "print(np.tan(a1))\n",
    "print('**' * 68)"
   ]
  },
  {
   "cell_type": "markdown",
   "id": "b8d546f0-4385-4f03-a493-29dfdf25229e",
   "metadata": {},
   "source": [
    "#### dot product(Almost similar to the matrix multiplication). "
   ]
  },
  {
   "cell_type": "code",
   "execution_count": 141,
   "id": "f9183337-7957-41cc-bcb9-aca34671912a",
   "metadata": {},
   "outputs": [],
   "source": [
    "a1 = np.arange(12).reshape(4, 3)\n",
    "a2 = np.arange(12).reshape(3, 4)"
   ]
  },
  {
   "cell_type": "code",
   "execution_count": 143,
   "id": "79f10a33-9b36-4801-9068-bcffe624f9f1",
   "metadata": {},
   "outputs": [
    {
     "data": {
      "text/plain": [
       "array([[ 0,  1,  2],\n",
       "       [ 3,  4,  5],\n",
       "       [ 6,  7,  8],\n",
       "       [ 9, 10, 11]])"
      ]
     },
     "execution_count": 143,
     "metadata": {},
     "output_type": "execute_result"
    }
   ],
   "source": [
    "a1"
   ]
  },
  {
   "cell_type": "code",
   "execution_count": 144,
   "id": "b700234f-e01b-419c-8cca-597121160888",
   "metadata": {},
   "outputs": [
    {
     "data": {
      "text/plain": [
       "array([[ 0,  1,  2,  3],\n",
       "       [ 4,  5,  6,  7],\n",
       "       [ 8,  9, 10, 11]])"
      ]
     },
     "execution_count": 144,
     "metadata": {},
     "output_type": "execute_result"
    }
   ],
   "source": [
    "a2"
   ]
  },
  {
   "cell_type": "code",
   "execution_count": 142,
   "id": "6e984891-b802-43e6-8a34-57bdc3b731d6",
   "metadata": {},
   "outputs": [
    {
     "data": {
      "text/plain": [
       "array([[ 20,  23,  26,  29],\n",
       "       [ 56,  68,  80,  92],\n",
       "       [ 92, 113, 134, 155],\n",
       "       [128, 158, 188, 218]])"
      ]
     },
     "execution_count": 142,
     "metadata": {},
     "output_type": "execute_result"
    }
   ],
   "source": [
    "np.dot(a1, a2)"
   ]
  },
  {
   "cell_type": "code",
   "execution_count": 149,
   "id": "50b5364e-6645-4c8c-a82a-631f01fe8ac9",
   "metadata": {},
   "outputs": [
    {
     "data": {
      "text/plain": [
       "array([[90.95364667, 93.79784915, 28.49474545],\n",
       "       [63.81322722, 31.9763168 , 19.63695337]])"
      ]
     },
     "execution_count": 149,
     "metadata": {},
     "output_type": "execute_result"
    }
   ],
   "source": [
    "# round/floor/ceil \n",
    "a1 = np.random.random((2, 3)) * 100\n",
    "a1"
   ]
  },
  {
   "cell_type": "code",
   "execution_count": 148,
   "id": "1e19c457-1b53-41d6-b6e4-fd02a5c34178",
   "metadata": {},
   "outputs": [
    {
     "data": {
      "text/plain": [
       "array([[43., 97., 47.],\n",
       "       [49., 34., 40.]])"
      ]
     },
     "execution_count": 148,
     "metadata": {},
     "output_type": "execute_result"
    }
   ],
   "source": [
    "np.round(a1)"
   ]
  },
  {
   "cell_type": "code",
   "execution_count": 150,
   "id": "bef0efd3-fa55-4b96-af15-1680454351f6",
   "metadata": {},
   "outputs": [
    {
     "data": {
      "text/plain": [
       "array([[90., 93., 28.],\n",
       "       [63., 31., 19.]])"
      ]
     },
     "execution_count": 150,
     "metadata": {},
     "output_type": "execute_result"
    }
   ],
   "source": [
    "np.floor(a1)"
   ]
  },
  {
   "cell_type": "code",
   "execution_count": 151,
   "id": "877b8afa-e12d-4719-ab14-8a8ea02e6e6b",
   "metadata": {},
   "outputs": [
    {
     "data": {
      "text/plain": [
       "array([[91., 94., 29.],\n",
       "       [64., 32., 20.]])"
      ]
     },
     "execution_count": 151,
     "metadata": {},
     "output_type": "execute_result"
    }
   ],
   "source": [
    "np.ceil(a1)"
   ]
  },
  {
   "cell_type": "markdown",
   "id": "9deff415-89c2-4312-b735-f512b81b1248",
   "metadata": {},
   "source": [
    "### Indexing and Slicing."
   ]
  },
  {
   "cell_type": "code",
   "execution_count": 152,
   "id": "a4d7c2bb-6a98-479a-8e1f-471f391279ca",
   "metadata": {},
   "outputs": [],
   "source": [
    "a1 = np.arange(10)\n",
    "a2 = np.arange(12).reshape(3,4)\n",
    "a3 = np.arange(8).reshape(2,2,2)"
   ]
  },
  {
   "cell_type": "code",
   "execution_count": 153,
   "id": "e63cc16a-2efc-4e0a-98af-25963df1f6db",
   "metadata": {},
   "outputs": [
    {
     "data": {
      "text/plain": [
       "array([0, 1, 2, 3, 4, 5, 6, 7, 8, 9])"
      ]
     },
     "execution_count": 153,
     "metadata": {},
     "output_type": "execute_result"
    }
   ],
   "source": [
    "a1"
   ]
  },
  {
   "cell_type": "code",
   "execution_count": 154,
   "id": "b817decd-e95b-4746-9232-486d488ff0b1",
   "metadata": {},
   "outputs": [
    {
     "data": {
      "text/plain": [
       "array([[ 0,  1,  2,  3],\n",
       "       [ 4,  5,  6,  7],\n",
       "       [ 8,  9, 10, 11]])"
      ]
     },
     "execution_count": 154,
     "metadata": {},
     "output_type": "execute_result"
    }
   ],
   "source": [
    "a2"
   ]
  },
  {
   "cell_type": "code",
   "execution_count": 155,
   "id": "f29a388f-3f69-4cb9-87b4-f75d4f97918a",
   "metadata": {},
   "outputs": [
    {
     "data": {
      "text/plain": [
       "array([[[0, 1],\n",
       "        [2, 3]],\n",
       "\n",
       "       [[4, 5],\n",
       "        [6, 7]]])"
      ]
     },
     "execution_count": 155,
     "metadata": {},
     "output_type": "execute_result"
    }
   ],
   "source": [
    "a3"
   ]
  },
  {
   "cell_type": "markdown",
   "id": "7b48da0b-3d19-4c54-a982-177ecc9f81be",
   "metadata": {},
   "source": [
    "#### Indexing"
   ]
  },
  {
   "cell_type": "code",
   "execution_count": 157,
   "id": "0017185d-0c72-44a9-bef0-845cb98edc02",
   "metadata": {},
   "outputs": [
    {
     "name": "stdout",
     "output_type": "stream",
     "text": [
      "4\n"
     ]
    }
   ],
   "source": [
    "print(a2[1,0])"
   ]
  },
  {
   "cell_type": "code",
   "execution_count": 158,
   "id": "549ba829-83bd-46aa-92e8-1d65825f6cdb",
   "metadata": {},
   "outputs": [
    {
     "name": "stdout",
     "output_type": "stream",
     "text": [
      "5\n"
     ]
    }
   ],
   "source": [
    "# access the element of the 3D array. \n",
    "print(a3[1,0,1])"
   ]
  },
  {
   "cell_type": "markdown",
   "id": "3dba5580-12b3-4f8e-9294-d32d7227c083",
   "metadata": {},
   "source": [
    "#### Slicing"
   ]
  },
  {
   "cell_type": "code",
   "execution_count": 162,
   "id": "4e39bf80-ff18-4b41-9088-552fee1d6b02",
   "metadata": {},
   "outputs": [
    {
     "data": {
      "text/plain": [
       "array([2, 4])"
      ]
     },
     "execution_count": 162,
     "metadata": {},
     "output_type": "execute_result"
    }
   ],
   "source": [
    "a1[2:5:2]"
   ]
  },
  {
   "cell_type": "code",
   "execution_count": 160,
   "id": "a19175ae-21d8-413c-9857-d6d84eb9edc4",
   "metadata": {},
   "outputs": [
    {
     "data": {
      "text/plain": [
       "array([[1, 3],\n",
       "       [5, 7]])"
      ]
     },
     "execution_count": 160,
     "metadata": {},
     "output_type": "execute_result"
    }
   ],
   "source": [
    "a2[0:2,1::2]"
   ]
  },
  {
   "cell_type": "code",
   "execution_count": 161,
   "id": "31dfb813-b8c2-4fc7-83e7-4b7d1cc8fc53",
   "metadata": {},
   "outputs": [
    {
     "data": {
      "text/plain": [
       "array([4, 7])"
      ]
     },
     "execution_count": 161,
     "metadata": {},
     "output_type": "execute_result"
    }
   ],
   "source": [
    "a2[1,::3]"
   ]
  },
  {
   "cell_type": "code",
   "execution_count": 163,
   "id": "f473d76a-c5df-426a-9135-ab37ae3b8b21",
   "metadata": {},
   "outputs": [
    {
     "data": {
      "text/plain": [
       "array([0, 1, 2, 3])"
      ]
     },
     "execution_count": 163,
     "metadata": {},
     "output_type": "execute_result"
    }
   ],
   "source": [
    "a2[0,:]"
   ]
  },
  {
   "cell_type": "code",
   "execution_count": 164,
   "id": "f4c00242-3a7b-4481-affe-0a9d84a87891",
   "metadata": {},
   "outputs": [
    {
     "data": {
      "text/plain": [
       "array([ 2,  6, 10])"
      ]
     },
     "execution_count": 164,
     "metadata": {},
     "output_type": "execute_result"
    }
   ],
   "source": [
    "a2[:,2]"
   ]
  },
  {
   "cell_type": "code",
   "execution_count": 165,
   "id": "4cd454fe-5057-48b2-8c2d-68b7cde9faba",
   "metadata": {},
   "outputs": [
    {
     "data": {
      "text/plain": [
       "array([[ 5,  6],\n",
       "       [ 9, 10]])"
      ]
     },
     "execution_count": 165,
     "metadata": {},
     "output_type": "execute_result"
    }
   ],
   "source": [
    "a2[1:,1:3]"
   ]
  },
  {
   "cell_type": "code",
   "execution_count": 166,
   "id": "16f40059-f0ce-4d69-89ab-6f0464b25a78",
   "metadata": {},
   "outputs": [
    {
     "data": {
      "text/plain": [
       "array([[[ 0,  1,  2],\n",
       "        [ 3,  4,  5],\n",
       "        [ 6,  7,  8]],\n",
       "\n",
       "       [[ 9, 10, 11],\n",
       "        [12, 13, 14],\n",
       "        [15, 16, 17]],\n",
       "\n",
       "       [[18, 19, 20],\n",
       "        [21, 22, 23],\n",
       "        [24, 25, 26]]])"
      ]
     },
     "execution_count": 166,
     "metadata": {},
     "output_type": "execute_result"
    }
   ],
   "source": [
    "a3 = np.arange(27).reshape(3,3,3)\n",
    "a3"
   ]
  },
  {
   "cell_type": "code",
   "execution_count": 167,
   "id": "c77cf58a-8f10-4b17-a1e6-cf3117a18ede",
   "metadata": {},
   "outputs": [
    {
     "data": {
      "text/plain": [
       "array([[ 0,  2],\n",
       "       [18, 20]])"
      ]
     },
     "execution_count": 167,
     "metadata": {},
     "output_type": "execute_result"
    }
   ],
   "source": [
    "a3[::2,0,::2]"
   ]
  },
  {
   "cell_type": "code",
   "execution_count": 168,
   "id": "c831335e-c180-4d85-98dd-b7eb1568f30b",
   "metadata": {},
   "outputs": [
    {
     "data": {
      "text/plain": [
       "array([[22, 23],\n",
       "       [25, 26]])"
      ]
     },
     "execution_count": 168,
     "metadata": {},
     "output_type": "execute_result"
    }
   ],
   "source": [
    "a3[2,1:,1:]"
   ]
  },
  {
   "cell_type": "code",
   "execution_count": 169,
   "id": "5ea78e4d-9dca-498e-ba5d-7ff29a03a496",
   "metadata": {},
   "outputs": [
    {
     "data": {
      "text/plain": [
       "array([3, 4, 5])"
      ]
     },
     "execution_count": 169,
     "metadata": {},
     "output_type": "execute_result"
    }
   ],
   "source": [
    "a3[0,1,:]"
   ]
  },
  {
   "cell_type": "markdown",
   "id": "1b2579eb-322d-4b41-a499-a497409a8bf2",
   "metadata": {},
   "source": [
    "### Iterating"
   ]
  },
  {
   "cell_type": "code",
   "execution_count": 173,
   "id": "4f3b1d35-5bce-49ac-9767-845ea0d47dd5",
   "metadata": {},
   "outputs": [
    {
     "name": "stdout",
     "output_type": "stream",
     "text": [
      "[0 1 2 3 4 5 6 7 8 9]\n",
      "0\n",
      "1\n",
      "2\n",
      "3\n",
      "4\n",
      "5\n",
      "6\n",
      "7\n",
      "8\n",
      "9\n"
     ]
    }
   ],
   "source": [
    "# 1D array. \n",
    "print(a1)\n",
    "for i in a1:\n",
    "    print(i)"
   ]
  },
  {
   "cell_type": "code",
   "execution_count": 174,
   "id": "aa69c49b-4559-4cda-8718-59bad97098f5",
   "metadata": {},
   "outputs": [
    {
     "name": "stdout",
     "output_type": "stream",
     "text": [
      "[0 1 2]\n",
      "[3 4 5]\n",
      "[6 7 8]\n",
      "[ 9 10 11]\n"
     ]
    }
   ],
   "source": [
    "# iterating over the 2D array. \n",
    "a2 = np.arange(12).reshape(4, 3)\n",
    "for i in a2:\n",
    "    print(i)"
   ]
  },
  {
   "cell_type": "code",
   "execution_count": 175,
   "id": "886ff843-61d3-4f42-afea-4f2a010a3666",
   "metadata": {},
   "outputs": [
    {
     "name": "stdout",
     "output_type": "stream",
     "text": [
      "[[0 1 2]\n",
      " [3 4 5]\n",
      " [6 7 8]]\n",
      "[[ 9 10 11]\n",
      " [12 13 14]\n",
      " [15 16 17]]\n",
      "[[18 19 20]\n",
      " [21 22 23]\n",
      " [24 25 26]]\n"
     ]
    }
   ],
   "source": [
    "# iterating over the 3D array. \n",
    "a2 = np.arange(27).reshape(3, 3, 3)\n",
    "for i in a2:\n",
    "    print(i)"
   ]
  },
  {
   "cell_type": "code",
   "execution_count": 177,
   "id": "2af4692c-1ba3-4abe-b643-14c094bd4c67",
   "metadata": {},
   "outputs": [
    {
     "name": "stdout",
     "output_type": "stream",
     "text": [
      "0\n",
      "1\n",
      "2\n",
      "3\n",
      "4\n",
      "5\n",
      "6\n",
      "7\n",
      "8\n",
      "9\n",
      "10\n",
      "11\n",
      "12\n",
      "13\n",
      "14\n",
      "15\n",
      "16\n",
      "17\n",
      "18\n",
      "19\n",
      "20\n",
      "21\n",
      "22\n",
      "23\n",
      "24\n",
      "25\n",
      "26\n"
     ]
    }
   ],
   "source": [
    "# accessing the one by one element from 2D or 3D array.\n",
    "for i in np.nditer(a3):\n",
    "  print(i)"
   ]
  },
  {
   "cell_type": "markdown",
   "id": "00b069a7-f1fb-42c4-ae5a-71e49100efca",
   "metadata": {},
   "source": [
    "### Reshaping"
   ]
  },
  {
   "cell_type": "code",
   "execution_count": 179,
   "id": "d6d4109c-17a6-48fd-aa00-b92eb68026e9",
   "metadata": {},
   "outputs": [
    {
     "data": {
      "text/plain": [
       "array([[ 0,  1,  2,  3],\n",
       "       [ 4,  5,  6,  7],\n",
       "       [ 8,  9, 10, 11]])"
      ]
     },
     "execution_count": 179,
     "metadata": {},
     "output_type": "execute_result"
    }
   ],
   "source": [
    "# reshape function\n",
    "a1 = np.arange(12).reshape(3, 4)\n",
    "a1"
   ]
  },
  {
   "cell_type": "code",
   "execution_count": 181,
   "id": "94408040-c93c-42f7-a869-15a7a9e106c8",
   "metadata": {},
   "outputs": [
    {
     "name": "stdout",
     "output_type": "stream",
     "text": [
      "[[ 0  1  2  3]\n",
      " [ 4  5  6  7]\n",
      " [ 8  9 10 11]]\n"
     ]
    },
    {
     "data": {
      "text/plain": [
       "array([[ 0,  4,  8],\n",
       "       [ 1,  5,  9],\n",
       "       [ 2,  6, 10],\n",
       "       [ 3,  7, 11]])"
      ]
     },
     "execution_count": 181,
     "metadata": {},
     "output_type": "execute_result"
    }
   ],
   "source": [
    "# transpose of a matrix. \n",
    "print(a1)\n",
    "np.transpose(a1)"
   ]
  },
  {
   "cell_type": "code",
   "execution_count": 182,
   "id": "3bd9e828-ed38-44dc-af3f-24764ffb09b0",
   "metadata": {},
   "outputs": [
    {
     "data": {
      "text/plain": [
       "array([ 0,  1,  2,  3,  4,  5,  6,  7,  8,  9, 10, 11])"
      ]
     },
     "execution_count": 182,
     "metadata": {},
     "output_type": "execute_result"
    }
   ],
   "source": [
    "# ravel\n",
    "a1.ravel()"
   ]
  },
  {
   "cell_type": "markdown",
   "id": "a48953d4-cd8c-40bc-8cd3-155568432ae7",
   "metadata": {},
   "source": [
    "### Stacking"
   ]
  },
  {
   "cell_type": "code",
   "execution_count": 185,
   "id": "0a907ab1-6845-4077-8253-0f38e227861c",
   "metadata": {},
   "outputs": [
    {
     "data": {
      "text/plain": [
       "array([[12, 13, 14, 15],\n",
       "       [16, 17, 18, 19],\n",
       "       [20, 21, 22, 23]])"
      ]
     },
     "execution_count": 185,
     "metadata": {},
     "output_type": "execute_result"
    }
   ],
   "source": [
    "a4 = np.arange(12).reshape(3,4)\n",
    "a5 = np.arange(12,24).reshape(3,4)\n",
    "a5"
   ]
  },
  {
   "cell_type": "code",
   "execution_count": 186,
   "id": "cfb9e2af-7363-45c4-b0c7-b9390c4e3f6a",
   "metadata": {},
   "outputs": [
    {
     "data": {
      "text/plain": [
       "array([[ 0,  1,  2,  3, 12, 13, 14, 15],\n",
       "       [ 4,  5,  6,  7, 16, 17, 18, 19],\n",
       "       [ 8,  9, 10, 11, 20, 21, 22, 23]])"
      ]
     },
     "execution_count": 186,
     "metadata": {},
     "output_type": "execute_result"
    }
   ],
   "source": [
    "# horizontal stacking\n",
    "np.hstack((a4,a5))"
   ]
  },
  {
   "cell_type": "code",
   "execution_count": 187,
   "id": "caa47b6b-985a-473b-88a0-10dee2e26336",
   "metadata": {},
   "outputs": [
    {
     "data": {
      "text/plain": [
       "array([[ 0,  1,  2,  3],\n",
       "       [ 4,  5,  6,  7],\n",
       "       [ 8,  9, 10, 11],\n",
       "       [12, 13, 14, 15],\n",
       "       [16, 17, 18, 19],\n",
       "       [20, 21, 22, 23]])"
      ]
     },
     "execution_count": 187,
     "metadata": {},
     "output_type": "execute_result"
    }
   ],
   "source": [
    "# Vertical stacking\n",
    "np.vstack((a4,a5))"
   ]
  },
  {
   "cell_type": "markdown",
   "id": "288c8926-8b9d-4735-a6be-80ea06ad59f6",
   "metadata": {},
   "source": [
    "### Splitting"
   ]
  },
  {
   "cell_type": "code",
   "execution_count": 191,
   "id": "642c179f-e8e2-4ec8-87a1-7e614fcd9f90",
   "metadata": {},
   "outputs": [
    {
     "data": {
      "text/plain": [
       "array([[ 0,  1,  2,  3],\n",
       "       [ 4,  5,  6,  7],\n",
       "       [ 8,  9, 10, 11]])"
      ]
     },
     "execution_count": 191,
     "metadata": {},
     "output_type": "execute_result"
    }
   ],
   "source": [
    "a1"
   ]
  },
  {
   "cell_type": "code",
   "execution_count": 194,
   "id": "06dae909-9417-4564-a2a9-cef0d922828f",
   "metadata": {},
   "outputs": [
    {
     "data": {
      "text/plain": [
       "[array([[0, 1],\n",
       "        [4, 5],\n",
       "        [8, 9]]),\n",
       " array([[ 2,  3],\n",
       "        [ 6,  7],\n",
       "        [10, 11]])]"
      ]
     },
     "execution_count": 194,
     "metadata": {},
     "output_type": "execute_result"
    }
   ],
   "source": [
    "# horizontal splitting\n",
    "np.hsplit(a1,2)"
   ]
  },
  {
   "cell_type": "code",
   "execution_count": 195,
   "id": "58ba5f49-5024-4297-8e7a-b9d62ff28e11",
   "metadata": {},
   "outputs": [
    {
     "data": {
      "text/plain": [
       "[array([[0, 1, 2, 3]]), array([[4, 5, 6, 7]]), array([[ 8,  9, 10, 11]])]"
      ]
     },
     "execution_count": 195,
     "metadata": {},
     "output_type": "execute_result"
    }
   ],
   "source": [
    "# vertical splitting\n",
    "np.vsplit(a1, 3)"
   ]
  },
  {
   "cell_type": "code",
   "execution_count": null,
   "id": "75651a6f-f699-4f79-bc3a-cedab21c44ef",
   "metadata": {},
   "outputs": [],
   "source": []
  }
 ],
 "metadata": {
  "kernelspec": {
   "display_name": "Python 3 (ipykernel)",
   "language": "python",
   "name": "python3"
  },
  "language_info": {
   "codemirror_mode": {
    "name": "ipython",
    "version": 3
   },
   "file_extension": ".py",
   "mimetype": "text/x-python",
   "name": "python",
   "nbconvert_exporter": "python",
   "pygments_lexer": "ipython3",
   "version": "3.13.1"
  }
 },
 "nbformat": 4,
 "nbformat_minor": 5
}
