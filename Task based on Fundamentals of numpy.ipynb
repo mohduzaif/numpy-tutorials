{
 "cells": [
  {
   "cell_type": "markdown",
   "id": "1a617284-f70d-403a-8cb1-2d70b7c84962",
   "metadata": {},
   "source": [
    "**Note: In Data Science googling is a very important skill. If you find some difficulties to solve the problem, google it and try to find some clues to solve.**"
   ]
  },
  {
   "cell_type": "markdown",
   "id": "6c469b69-b8bc-4156-8ebf-e364cf6a573b",
   "metadata": {},
   "source": [
    "### `Q-1` Create a null vector of size 10 but the fifth value which is 1."
   ]
  },
  {
   "cell_type": "code",
   "execution_count": 3,
   "id": "3f15f4e8-4e18-4862-bbec-8a31aa14e4a1",
   "metadata": {},
   "outputs": [
    {
     "name": "stdout",
     "output_type": "stream",
     "text": [
      "[0 0 0 0 1 0 0 0 0 0]\n"
     ]
    }
   ],
   "source": [
    "import numpy as np\n",
    "a1 = np.zeros(10, dtype = int)\n",
    "a1[4] = 1\n",
    "print(a1)"
   ]
  },
  {
   "cell_type": "markdown",
   "id": "9ffe412c-512a-49a6-9634-bbc7cd5a46bc",
   "metadata": {},
   "source": [
    "### `Q-2` Ask user to input two numbers a, b. Write a program to generate a random array of shape (a, b) and print the array and avg of the array."
   ]
  },
  {
   "cell_type": "code",
   "execution_count": 10,
   "id": "108120c5-fd78-4b34-81b1-fc17df9ebd3a",
   "metadata": {},
   "outputs": [
    {
     "name": "stdin",
     "output_type": "stream",
     "text": [
      "Enter first number :  4\n",
      "Enter second number :  5\n"
     ]
    },
    {
     "name": "stdout",
     "output_type": "stream",
     "text": [
      "[[0.45319757 0.37050186 0.09400767 0.11625541 0.29698231]\n",
      " [0.78369596 0.31600062 0.52347124 0.77276598 0.084488  ]\n",
      " [0.29548411 0.82094247 0.13927967 0.97948726 0.03598981]\n",
      " [0.85560966 0.65293716 0.40087969 0.50865064 0.38940258]]\n"
     ]
    }
   ],
   "source": [
    "a = int(input('Enter first number : '))\n",
    "b = int(input('Enter second number : '))\n",
    "\n",
    "a1 = np.random.random((a, b))\n",
    "\n",
    "print(a1)"
   ]
  },
  {
   "cell_type": "markdown",
   "id": "b50f23db-0055-4e05-9895-6f354b7fdbfd",
   "metadata": {},
   "source": [
    "### `Q-3`Write a function to create a 2d array with 1 on the border and 0 inside. Take 2-D array shape as (a,b) as parameter to function.\n",
    "\n",
    "Eg.-\n",
    "```\n",
    "[[1,1,1,1],\n",
    "[1,0,0,1],\n",
    "[1,0,0,1],\n",
    "[1,1,1,1]]\n",
    "```"
   ]
  },
  {
   "cell_type": "code",
   "execution_count": 19,
   "id": "526774dd-8767-4044-bb07-dd27fbaf8649",
   "metadata": {},
   "outputs": [
    {
     "name": "stdin",
     "output_type": "stream",
     "text": [
      "Enter first number :  5\n",
      "Enter second number :  3\n"
     ]
    },
    {
     "name": "stdout",
     "output_type": "stream",
     "text": [
      "[[1 1 1]\n",
      " [1 0 1]\n",
      " [1 0 1]\n",
      " [1 0 1]\n",
      " [1 1 1]]\n"
     ]
    }
   ],
   "source": [
    "def create_array(a, b):\n",
    "\n",
    "    result = np.ones(b, dtype=int)\n",
    "    for i in range(1, a):\n",
    "        if i == a - 1: \n",
    "            a1 = np.ones(b, dtype=int)\n",
    "            result = np.vstack((result, a1)) \n",
    "        else:\n",
    "            a1 = np.zeros(b, dtype=int) \n",
    "            a1[0] = 1\n",
    "            a1[b - 1] = 1\n",
    "            result = np.vstack((result, a1)) \n",
    "            \n",
    "    return result\n",
    "            \n",
    "\n",
    "\n",
    "a = int(input('Enter first number : '))\n",
    "b = int(input('Enter second number : ')) \n",
    "\n",
    "result = create_array(a, b)\n",
    "print(result)"
   ]
  },
  {
   "cell_type": "markdown",
   "id": "65494367-46f9-4311-80c5-5a99b1c6de32",
   "metadata": {},
   "source": [
    "### `Q-4` Create a vector of size 10 with values ranging from 0 to 1, both excluded."
   ]
  },
  {
   "cell_type": "code",
   "execution_count": 22,
   "id": "2d41eb5d-a372-45ba-8fbb-108e195acb08",
   "metadata": {},
   "outputs": [
    {
     "name": "stdout",
     "output_type": "stream",
     "text": [
      "[0.18357592 0.65327874 0.70997622 0.60029015 0.8597387  0.54017614\n",
      " 0.72580205 0.27686021 0.56317539 0.5693221 ]\n"
     ]
    }
   ],
   "source": [
    "import numpy as np \n",
    "\n",
    "a1 = np.random.random(10)\n",
    "print(a1)"
   ]
  },
  {
   "cell_type": "markdown",
   "id": "edbfaf78-8b21-4cc2-ba6a-c80cc24e96d4",
   "metadata": {},
   "source": [
    "### `Q-5` Can you create a identity mattrix of shape (3,4). If yes write code for it."
   ]
  },
  {
   "cell_type": "markdown",
   "id": "11910be7-760f-4a0b-b7d7-eafc80f30472",
   "metadata": {},
   "source": [
    "NO, we Can not create a identity mattrix of shape (3,4). Identity matrix always be a square."
   ]
  },
  {
   "cell_type": "markdown",
   "id": "35e130a5-e92c-4daa-b16a-171447462f15",
   "metadata": {},
   "source": [
    "### `Q-6:` Create a 5x5 matrix with row values ranging from 0 to 4."
   ]
  },
  {
   "cell_type": "code",
   "execution_count": 20,
   "id": "9167b21a-82b3-4423-abfe-28b25cb44322",
   "metadata": {},
   "outputs": [
    {
     "name": "stdout",
     "output_type": "stream",
     "text": [
      "[[0 1 2 3 4]\n",
      " [0 1 2 3 4]\n",
      " [0 1 2 3 4]\n",
      " [0 1 2 3 4]\n",
      " [0 1 2 3 4]]\n"
     ]
    }
   ],
   "source": [
    "# Solution 1. \n",
    "\n",
    "a1 = np.array([[0, 1, 2, 3, 4], [0, 1, 2, 3, 4], [0, 1, 2, 3, 4], [0, 1, 2, 3, 4], [0, 1, 2, 3, 4]])\n",
    "print(a1)"
   ]
  },
  {
   "cell_type": "code",
   "execution_count": 21,
   "id": "1211d7e5-de87-4bf2-b726-3c938f2f1948",
   "metadata": {},
   "outputs": [
    {
     "name": "stdout",
     "output_type": "stream",
     "text": [
      "[[0 1 2 3 4]\n",
      " [0 1 2 3 4]\n",
      " [0 1 2 3 4]\n",
      " [0 1 2 3 4]\n",
      " [0 1 2 3 4]]\n"
     ]
    }
   ],
   "source": [
    "# Solution 2. \n",
    "matrix = np.linspace(0, 4, 5, dtype=int)\n",
    "\n",
    "for i in range(4): \n",
    "    temp = np.linspace(0, 4, 5, dtype = int)\n",
    "    matrix = np.vstack((matrix, temp))\n",
    "\n",
    "print(matrix)"
   ]
  },
  {
   "cell_type": "markdown",
   "id": "bf442256-c100-45c5-b980-7ff4c6fc3bc3",
   "metadata": {},
   "source": [
    "### `Q-7:`  Consider a random integer (in range 1 to 100) vector with shape `(10,2)` representing coordinates, and coordinates of a point as array is given. Create an array of distance of each point in the random vectros from the given point. Distance array should be interger type.\n",
    "\n",
    "```\n",
    "point = np.array([2,3])\n",
    "\n",
    "```\n"
   ]
  },
  {
   "cell_type": "code",
   "execution_count": 48,
   "id": "6d4eb452-07c5-41db-aa07-f66d98812b0a",
   "metadata": {},
   "outputs": [
    {
     "name": "stdout",
     "output_type": "stream",
     "text": [
      "[96. 76. 56. 53. 93. 98. 77. 84. 62. 66.]\n"
     ]
    }
   ],
   "source": [
    "import numpy as np\n",
    "\n",
    "def distance_vector(a1, point):\n",
    "    \n",
    "    result = np.zeros(10)\n",
    "    i = 0\n",
    "    \n",
    "    for p in a1:\n",
    "        dist = np.sqrt((p[0] - point[0]) ** 2 + (p[1] - point[1]) ** 2)\n",
    "        # print(dist)\n",
    "        result[i] = np.round(dist)\n",
    "        i += 1 \n",
    "    return result\n",
    "    \n",
    "\n",
    "a1 = np.random.random(20) * 100\n",
    "a1 = np.astype(a1, int).reshape(10, 2)\n",
    "point = np.array([2,3])\n",
    "\n",
    "result = distance_vector(a1, point)\n",
    "print(result)"
   ]
  },
  {
   "cell_type": "markdown",
   "id": "111f04cd-17e0-42f1-806d-0dc84c7b6f4d",
   "metadata": {},
   "source": [
    "### `Q-8:` Consider a (6,7,8) shape array, what is the index (x,y,z) of the 100th element?"
   ]
  },
  {
   "cell_type": "code",
   "execution_count": 54,
   "id": "ffc90e6d-4f90-4772-8f39-dac7eca815e9",
   "metadata": {},
   "outputs": [
    {
     "name": "stdout",
     "output_type": "stream",
     "text": [
      "99\n"
     ]
    }
   ],
   "source": [
    "a1 = np.arange(336).reshape(6, 7, 8)\n",
    "\n",
    "# index  --> (1, 5, 3)\n",
    "print(a1[1, 5, 3])"
   ]
  },
  {
   "cell_type": "markdown",
   "id": "23ffcd45-dcce-414e-ab3d-c92652ffdb06",
   "metadata": {},
   "source": [
    "### `Q-9:` Arrays\n",
    "\n",
    "You are given a space separated list of numbers. Your task is to print a reversed NumPy array with the element type float.\n",
    "\n"
   ]
  },
  {
   "cell_type": "markdown",
   "id": "21ddfbd8-23b6-461f-b2f7-6afb35893057",
   "metadata": {},
   "source": [
    "**Input Format:**\n",
    "\n",
    "A single line of input containing space separated numbers.\n",
    "\n",
    "**Output Format:**\n",
    "\n",
    "Print the reverse NumPy array with type float.\n",
    "\n",
    "**Example 1:**\n",
    "\n",
    "Input:\n",
    "\n",
    "```bash\n",
    "1 2 3 4 -8 -10\n",
    "```\n",
    "\n",
    "Output:\n",
    "\n",
    "```bash\n",
    "[-10.  -8.   4.   3.   2.   1.]\n",
    "\n",
    "```"
   ]
  },
  {
   "cell_type": "code",
   "execution_count": 59,
   "id": "c3788f93-1586-4949-85b7-cffec67b7edf",
   "metadata": {},
   "outputs": [
    {
     "name": "stdout",
     "output_type": "stream",
     "text": [
      "[-10.  -8.   4.   3.   2.   1.]\n"
     ]
    }
   ],
   "source": [
    "def reverse_array(List): \n",
    "    a1 = np.array([1, 2, 3, 4, -8, -10], dtype = float)\n",
    "    return a1[ : : -1]\n",
    "\n",
    "print(reverse_array([1, 2, 3, 4, -8, -10]))"
   ]
  },
  {
   "cell_type": "markdown",
   "id": "0e90215e-cae8-47b2-b0f2-032d988e8116",
   "metadata": {},
   "source": [
    "### `Q-10:` Elements count\n",
    "\n",
    "Count the number of elements of a numpy array.\n",
    "\n"
   ]
  },
  {
   "cell_type": "code",
   "execution_count": 62,
   "id": "9f70188a-f983-4f86-bad6-d5cb997f4f37",
   "metadata": {},
   "outputs": [
    {
     "name": "stdout",
     "output_type": "stream",
     "text": [
      "100\n"
     ]
    }
   ],
   "source": [
    "def count_element(array): \n",
    "\n",
    "    count = 0\n",
    "    for i in np.nditer(array): \n",
    "        count += 1\n",
    "    return count\n",
    "\n",
    "a1 = np.arange(100).reshape(4, 25)\n",
    "print(count_element(a1))"
   ]
  },
  {
   "cell_type": "markdown",
   "id": "be7818d2-62f8-43de-bdf3-92829108956b",
   "metadata": {},
   "source": [
    "### `Q-11:` Softmax function\n",
    "\n",
    "Create a Python function to calculate the Softmax of the given numpy 1D array. The function only accepts the numpy 1D array, otherwise raise error.\n",
    "\n",
    "$$\\Large \\sigma(\\vec z)_i = \\frac{e^{z_i}}{\\sum_{j=i}^{K}{e^{z_j}}}$$\n",
    "\n",
    "https://en.wikipedia.org/wiki/Softmax_function\n",
    "\n"
   ]
  },
  {
   "cell_type": "code",
   "execution_count": 84,
   "id": "c378eb3f-68c8-45b0-833d-caf707bfa0c0",
   "metadata": {},
   "outputs": [
    {
     "name": "stdout",
     "output_type": "stream",
     "text": [
      "[0.0901313  0.09763808 0.13994753 0.08488247 0.06225679 0.11119301\n",
      " 0.12790241 0.12536977 0.07233207 0.08834658]\n"
     ]
    }
   ],
   "source": [
    "def softmax(z): \n",
    "    if len(z.shape) > 1:\n",
    "        return 'Array is not 1D'\n",
    "    num = np.exp(z) \n",
    "    deno = np.sum(np.exp(z))\n",
    "    # print(num)\n",
    "    # print(deno)\n",
    "    return num / deno\n",
    "\n",
    "z = np.round(np.random.random(10), 2)\n",
    "# print(z) \n",
    "print(softmax(z))"
   ]
  },
  {
   "cell_type": "markdown",
   "id": "7c8b41c0-7894-4b99-a049-459d41d02e03",
   "metadata": {},
   "source": [
    "### `Q-12:` Vertical stack\n",
    "\n",
    "Write a python function that accepts infinite number of numpy arrays and do the vertical stack to them. Then return that new array as result. The function only accepts the numpy array, otherwise raise error.\n",
    "\n"
   ]
  },
  {
   "cell_type": "markdown",
   "id": "ecdce7c7-ec98-4a4a-a509-be4d1709113b",
   "metadata": {},
   "source": [
    "**Example 1:**\n",
    "\n",
    "Input:\n",
    "```bash\n",
    "a= [[0 1 2 3 4]\n",
    " [5 6 7 8 9]]\n",
    "\n",
    "b= [[1 1 1 1 1]\n",
    " [1 1 1 1 1]]\n",
    "```\n",
    "\n",
    "Output:\n",
    "\n",
    "```bash\n",
    "[[0 1 2 3 4]\n",
    " [5 6 7 8 9]\n",
    " [1 1 1 1 1]\n",
    " [1 1 1 1 1]]\n",
    "```\n",
    "\n",
    "**Example 2:**\n",
    "\n",
    "Input:\n",
    "```bash\n",
    "a= [[0 1 2 3 4]\n",
    " [5 6 7 8 9]]\n",
    "\n",
    "b= [[1 1 1 1 1]\n",
    " [1 1 1 1 1]]\n",
    "\n",
    "c= [[0.10117373 0.1677244  0.73764059 0.83166097 0.48985695]\n",
    " [0.44581567 0.13502419 0.55692335 0.16479622 0.61193593]] \n",
    "```\n",
    "\n",
    "Output:\n",
    "```bash\n",
    "[[0.         1.         2.         3.         4.        ]\n",
    " [5.         6.         7.         8.         9.        ]\n",
    " [1.         1.         1.         1.         1.        ]\n",
    " [1.         1.         1.         1.         1.        ]\n",
    " [0.10117373 0.1677244  0.73764059 0.83166097 0.48985695]\n",
    " [0.44581567 0.13502419 0.55692335 0.16479622 0.61193593]]\n",
    "```"
   ]
  },
  {
   "cell_type": "code",
   "execution_count": 4,
   "id": "6663c344-d3bf-4c00-8d1e-0e79f4ea38a5",
   "metadata": {},
   "outputs": [
    {
     "name": "stdout",
     "output_type": "stream",
     "text": [
      "[[56 39 97 13 37 36 48 75 55 98]\n",
      " [51 77  1  4 69 23 35 26 34 78]]\n"
     ]
    }
   ],
   "source": [
    "def vertical_stack(arr1, arr2):\n",
    "\n",
    "    if isinstance(arr1, np.ndarray) and isinstance(arr2, np.ndarray): \n",
    "        return np.vstack((arr1, arr2))\n",
    "    else: \n",
    "        return 'It is not a numpy array'\n",
    "\n",
    "\n",
    "arr1 = np.random.randint(1, 100, 10)\n",
    "arr2 = np.random.randint(1, 100, 10)\n",
    "\n",
    "print(vertical_stack(arr1, arr2))\n"
   ]
  },
  {
   "cell_type": "markdown",
   "id": "ee4bf9a0-e928-4210-9035-5c336534c9f5",
   "metadata": {},
   "source": [
    "### `Q-13:` Dates\n",
    "\n",
    "Create a python function named **date_array** that accepts two dates as string format and returns a numpy array of dates between those 2 dates. The function only accept 2 strings, otherwise raise error. The date format should be like this only: `2022-12-6`. The end date should be included and for simplicity, choose dates from a same year.\n",
    "\n"
   ]
  },
  {
   "cell_type": "markdown",
   "id": "466449a8-cf34-4262-adf9-d1d0ed227d12",
   "metadata": {},
   "source": [
    "**Example 1:**\n",
    "\n",
    "Input:\n",
    "```bash\n",
    "date_array(start = '2020-09-15', end = '2020-09-25')\n",
    "\n",
    "```\n",
    "\n",
    "Output:\n",
    "```bash\n",
    "['2020-09-15', '2020-09-16', '2020-09-17', '2020-09-18',\n",
    " '2020-09-19', '2020-09-20', '2020-09-21', '2020-09-22',\n",
    " '2020-09-23', '2020-09-24', '2020-09-25']\n",
    " \n",
    "```\n",
    "\n",
    "**Example 2:**\n",
    "\n",
    "Input:\n",
    "```bash\n",
    "date_array(start = '2022-12-01', end = '2022-12-06')\n",
    "\n",
    "```\n",
    "\n",
    "Output:\n",
    "```bash\n",
    "['2022-12-01', '2022-12-02', '2022-12-03', '2022-12-04', '2022-12-05', '2022-12-06']\n",
    "\n",
    "```\n",
    "\n",
    "**Example 3:**\n",
    "\n",
    "Input:\n",
    "```bash\n",
    "date_array(start = '2020-11-25', end = '2020-11-30')\n",
    "\n",
    "```\n",
    "\n",
    "Output:\n",
    "```bash\n",
    "['2020-11-25', '2020-11-26', '2020-11-27', '2020-11-28',\n",
    " '2020-11-29', '2020-11-30']\n",
    " \n",
    "```"
   ]
  },
  {
   "cell_type": "code",
   "execution_count": 51,
   "id": "1f610472-cda6-413b-ad5b-cc17394b9a2e",
   "metadata": {},
   "outputs": [],
   "source": [
    "from datetime import datetime, timedelta\n",
    "\n",
    "def date_array(date1, date2): \n",
    "\n",
    "    if type(date1) != str and type(date2) != str:\n",
    "        return 'Dates are not of string type.'\n",
    "\n",
    "    date1 = datetime.strptime(date1, '%Y-%m-%d').date() \n",
    "    date2 = datetime.strptime(date2, '%Y-%m-%d').date()\n",
    "\n",
    "    # print(type(date1))\n",
    "    # print(type(date2))\n",
    "\n",
    "    diff = date2 - date1\n",
    "    current_date = date1\n",
    "    date_list = []\n",
    "    for i in range(diff.days):\n",
    "        date_list.append(str(current_date))\n",
    "        current_date = current_date + timedelta(days=1)\n",
    "\n",
    "    return np.array(date_list)"
   ]
  },
  {
   "cell_type": "code",
   "execution_count": 50,
   "id": "1765ec9c-575d-4640-97cc-a8de94dfe26b",
   "metadata": {},
   "outputs": [
    {
     "name": "stdin",
     "output_type": "stream",
     "text": [
      "Enter the starting date (yyyy-mm-dd):  2020-09-15\n",
      "Enter the Ending date (yyyy-mm-dd):  2020-09-25\n"
     ]
    },
    {
     "name": "stdout",
     "output_type": "stream",
     "text": [
      "2020-09-15\n",
      "2020-09-25\n"
     ]
    },
    {
     "data": {
      "text/plain": [
       "array(['2020-09-15', '2020-09-16', '2020-09-17', '2020-09-18',\n",
       "       '2020-09-19', '2020-09-20', '2020-09-21', '2020-09-22',\n",
       "       '2020-09-23', '2020-09-24'], dtype='<U10')"
      ]
     },
     "execution_count": 50,
     "metadata": {},
     "output_type": "execute_result"
    }
   ],
   "source": [
    "date1 = input('Enter the starting date (yyyy-mm-dd): ')\n",
    "date2 = input('Enter the Ending date (yyyy-mm-dd): ')\n",
    "\n",
    "print(date_array(date1, date2))"
   ]
  },
  {
   "cell_type": "markdown",
   "id": "973ef6ca-6b7b-4020-9b12-378fc42508b3",
   "metadata": {},
   "source": [
    "### `Q-14:` Subtract the mean of each row from a matrix."
   ]
  },
  {
   "cell_type": "code",
   "execution_count": 186,
   "id": "0e1d126b-30fd-4228-885b-06ae03ef1c27",
   "metadata": {},
   "outputs": [
    {
     "name": "stdout",
     "output_type": "stream",
     "text": [
      "[[-2. -1.  0.  1.  2.]\n",
      " [-2. -1.  0.  1.  2.]\n",
      " [-2. -1.  0.  1.  2.]\n",
      " [-2. -1.  0.  1.  2.]]\n"
     ]
    }
   ],
   "source": [
    "def subtract_mean(matrix): \n",
    "    \n",
    "    means = np.mean(matrix, axis=1)\n",
    "\n",
    "    # result = matrix[0] - means[0]\n",
    "    # for i in range(1, len(matrix)):\n",
    "    #     result = np.vstack((result, matrix[i] - means[i]))\n",
    "\n",
    "    result = matrix - means[:, np.newaxis]\n",
    "\n",
    "    return result\n",
    "\n",
    "\n",
    "        \n",
    "matrix = np.arange(20).reshape(4, 5)\n",
    "print(subtract_mean(matrix))"
   ]
  },
  {
   "cell_type": "markdown",
   "id": "8968d57f-0b88-420f-b5e7-56f468efd6cc",
   "metadata": {},
   "source": [
    "### `Q-15:` Swap column-1 of array with column-2 in the array."
   ]
  },
  {
   "cell_type": "code",
   "execution_count": 82,
   "id": "8f2c2795-d1f4-43a6-94ca-bc54fe30f608",
   "metadata": {},
   "outputs": [
    {
     "data": {
      "text/plain": [
       "array([[2, 1, 3],\n",
       "       [5, 4, 6],\n",
       "       [7, 6, 8],\n",
       "       [6, 5, 7]])"
      ]
     },
     "execution_count": 82,
     "metadata": {},
     "output_type": "execute_result"
    }
   ],
   "source": [
    "def swap_column(arr): \n",
    "    arr[ : , [1, 0]] = arr[ : , [0, 1]]\n",
    "    return arr\n",
    "\n",
    "arr = np.array([[1, 2, 3], [4, 5, 6], [6, 7, 8], [5, 6, 7]])\n",
    "swap_column(arr)"
   ]
  },
  {
   "cell_type": "markdown",
   "id": "4bdcf58b-9cd0-4640-aef6-f0177d1fa0d1",
   "metadata": {},
   "source": [
    "### `Q-16:` Replace odd elements in arrays with -1."
   ]
  },
  {
   "cell_type": "code",
   "execution_count": 94,
   "id": "96958919-92ee-43d3-8e43-d2aadc5c78b7",
   "metadata": {},
   "outputs": [],
   "source": [
    "def replace_with_minus_one(arr): \n",
    "    print(arr % 2 == 1)   \n",
    "    arr[arr % 2 == 1] = -1\n",
    "    print(arr)"
   ]
  },
  {
   "cell_type": "code",
   "execution_count": 95,
   "id": "4349ee69-c4ca-4c37-83b6-a23c400e8c01",
   "metadata": {},
   "outputs": [
    {
     "name": "stdout",
     "output_type": "stream",
     "text": [
      "[98 62 97 70 35 15 72 95 63  4 42 91 52  8 20 32 62  1 23 50]\n",
      "[False False  True False  True  True False  True  True False False  True\n",
      " False False False False False  True  True False]\n",
      "[98 62 -1 70 -1 -1 72 -1 -1  4 42 -1 52  8 20 32 62 -1 -1 50]\n"
     ]
    }
   ],
   "source": [
    "arr = np.random.randint(1, 100, 20)\n",
    "print(arr)\n",
    "replace_with_minus_one(arr)"
   ]
  },
  {
   "cell_type": "markdown",
   "id": "3d1d67b8-a266-4950-a3c2-a5e8ffaee978",
   "metadata": {},
   "source": [
    "### `Q-17:` Given two arrays of same shape make an array of max out of two arrays. (Numpy way)\n",
    "```\n",
    "a=np.array([6,3,1,5,8])\n",
    "b=np.array([3,2,1,7,2])\n",
    "\n",
    "Result-> [6 3 1 7 8]\n",
    "\n",
    "``` "
   ]
  },
  {
   "cell_type": "code",
   "execution_count": 99,
   "id": "4d674d18-ba19-4b71-8684-424b045cf894",
   "metadata": {},
   "outputs": [
    {
     "name": "stdout",
     "output_type": "stream",
     "text": [
      "[6 3 1 7 8]\n"
     ]
    }
   ],
   "source": [
    "import numpy as np\n",
    "\n",
    "def max_array(a, b):\n",
    "    List = []\n",
    "    for i in range(len(a)):\n",
    "        List.append(max(a[i], b[i]))\n",
    "\n",
    "    return np.array(List)\n",
    "\n",
    "a=np.array([6,3,1,5,8])\n",
    "b=np.array([3,2,1,7,2])\n",
    "\n",
    "print(max_array(a, b))"
   ]
  },
  {
   "cell_type": "markdown",
   "id": "7e4b6028-81a4-4e57-817a-d963a1e71cdd",
   "metadata": {},
   "source": [
    "### `Q-18` Answer below asked questions on given array:\n",
    "1. Fetch Every alternate column of the array\n",
    "2. Normalise the given array\n",
    "\n",
    "https://en.wikipedia.org/wiki/Normalization_(statistics)\n",
    "\n",
    "There are different form of normalisation for this question use below formula.\n",
    "\n",
    "$$\\large X_{normalized} = \\frac{X - X_{min}}{X_{max} - X_{min}}$$\n",
    "\n",
    "```python\n",
    "arr1=np.random.randint(low=1, high=10000, size=40).reshape(8,5)\n",
    "\n",
    "```\n"
   ]
  },
  {
   "cell_type": "code",
   "execution_count": 112,
   "id": "373ab968-dbfd-4246-bb29-58114df94f12",
   "metadata": {},
   "outputs": [
    {
     "name": "stdout",
     "output_type": "stream",
     "text": [
      "[[9546 4421 1362 9511 5325]\n",
      " [7680 8016 2558  492 9698]\n",
      " [2638 7410 2831 7443 8336]\n",
      " [1855 5801 7684 6502 7296]\n",
      " [8470 2078 5374 6029  524]\n",
      " [4657 1301 9382 5511 1948]\n",
      " [6430 6478 2408 3563 6500]\n",
      " [4340 1959 1885 3133 7346]]\n",
      "None\n"
     ]
    }
   ],
   "source": [
    "def normalized_array(arr): \n",
    "    print(arr)\n",
    "\n",
    "arr = np.random.randint(low=1, high=10000, size=40).reshape(8,5)\n",
    "print(normalized_array(arr))"
   ]
  },
  {
   "cell_type": "markdown",
   "id": "bdfc2669-5177-4a23-aca8-8c2c41d62983",
   "metadata": {},
   "source": [
    "### `Q-19:` Write a function which will accept 2 arguments.\n",
    "First: A 1D numpy array arr\n",
    "\n",
    "Second: An integer n {Please make sure n<=len(arr)}\n",
    "\n",
    "Output: The output should be the nth largest item out of the array\n",
    "```\n",
    "# Example1 : arr=(12,34,40,7,1,0) and n=3, the output should be 12\n",
    "# Example2 : arr=(12,34,40,7,1,0) and n=1, the output should be 40\n",
    "\n",
    "```"
   ]
  },
  {
   "cell_type": "code",
   "execution_count": 123,
   "id": "c40dad23-b9d9-4cb9-8f0f-190432dc75b1",
   "metadata": {},
   "outputs": [
    {
     "name": "stdout",
     "output_type": "stream",
     "text": [
      "The kth largest element in the array is : 40\n"
     ]
    }
   ],
   "source": [
    "def kth_largest_elemrnt(arr, n):\n",
    "    \n",
    "    arr = np.sort(arr)\n",
    "    \n",
    "    i = len(arr) - 1\n",
    "    while n:\n",
    "        i -= 1\n",
    "        n -= 1\n",
    "    return arr[i + 1]\n",
    "\n",
    "print('The kth largest element in the array is :', kth_largest_elemrnt(np.array([12,34,40,7,1,0]), 1))"
   ]
  },
  {
   "cell_type": "markdown",
   "id": "de810786-151a-49bb-b0a5-cb0e8d69cc1a",
   "metadata": {},
   "source": [
    "### `Q-20:` Create the following pattern without hardcoding. Use only numpy functions and the below input array a.\n",
    "\n",
    "```\n",
    "# Input: a = np.array([1,2,3])\n",
    "# Output: array([1, 1, 1, 2, 2, 2, 3, 3, 3, 1, 2, 3, 1, 2, 3, 1, 2, 3])\n",
    "\n",
    "```"
   ]
  },
  {
   "cell_type": "code",
   "execution_count": 139,
   "id": "07a5cb5b-efe3-416e-b93c-830c963c12e8",
   "metadata": {},
   "outputs": [
    {
     "name": "stdout",
     "output_type": "stream",
     "text": [
      "[1 1 1 2 2 2 3 3 3 1 2 3 1 2 3 1 2 3]\n"
     ]
    }
   ],
   "source": [
    "def build_array(arr): \n",
    "\n",
    "    repeated = np.repeat(arr, len(arr))\n",
    "    # print(repeated) \n",
    "    \n",
    "    tiled = np.tile(arr, len(arr))\n",
    "    # print(tiled)\n",
    "\n",
    "    return np.concatenate([repeated, tiled])\n",
    "\n",
    "print(build_array(np.array([1, 2, 3])))"
   ]
  },
  {
   "cell_type": "code",
   "execution_count": null,
   "id": "1214fc1d-4cf4-4a6b-8b7f-c6c2384cfc81",
   "metadata": {},
   "outputs": [],
   "source": []
  }
 ],
 "metadata": {
  "kernelspec": {
   "display_name": "Python 3 (ipykernel)",
   "language": "python",
   "name": "python3"
  },
  "language_info": {
   "codemirror_mode": {
    "name": "ipython",
    "version": 3
   },
   "file_extension": ".py",
   "mimetype": "text/x-python",
   "name": "python",
   "nbconvert_exporter": "python",
   "pygments_lexer": "ipython3",
   "version": "3.13.1"
  }
 },
 "nbformat": 4,
 "nbformat_minor": 5
}
