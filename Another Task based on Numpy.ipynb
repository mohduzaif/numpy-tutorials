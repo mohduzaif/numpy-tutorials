{
 "cells": [
  {
   "cell_type": "code",
   "execution_count": 1,
   "id": "1e7d6191-1a9e-4bef-8fd4-20eb53ebd176",
   "metadata": {},
   "outputs": [],
   "source": [
    "import numpy as np"
   ]
  },
  {
   "cell_type": "markdown",
   "id": "66d981df-c99d-4fc9-bd7c-64a131b38018",
   "metadata": {},
   "source": [
    "### `Q-1:` Create a random 3x4 matrix with value between 0-100. And perform below tasks\n",
    "\n",
    "    i. Sort this matrix. np.sort()\n",
    "    ii. Sort this matrix based on values in 2nd column.\n",
    "    iii. Sort this matrix based on max value in each row.\n",
    "    iv. Sort based on elements value.\n"
   ]
  },
  {
   "cell_type": "code",
   "execution_count": 46,
   "id": "5d776da2-e07f-44db-aba3-0c52aa616ead",
   "metadata": {},
   "outputs": [],
   "source": [
    "# function to Sort the matrix. \n",
    "def get_sorted_matrix(matrix): \n",
    "    return np.sort(matrix)\n",
    "\n",
    "\n",
    "# Sort this matrix based on values in 2nd column.\n",
    "def sorted_based_column(matrix):\n",
    "    sorted_indices = np.argsort(matrix[ : , 1])\n",
    "    sorted_matrix = matrix[sorted_indices]\n",
    "    return sorted_matrix\n",
    "\n",
    "# Sort this matrix based on max value in each row. \n",
    "def sort_based_max(matrix): \n",
    "\n",
    "    max_element = np.max(matrix, axis=1)\n",
    "    sorted_indices = np.argsort(max_element)\n",
    "    return matrix[sorted_indices]\n",
    "\n",
    "#  Sort based on elements value. \n",
    "def sort_based_value(matrix): \n",
    "\n",
    "    flat_array = matrix.flatten()\n",
    "    sorted_array = np.sort(flat_array).reshape(3, 4)\n",
    "    return sorted_array\n"
   ]
  },
  {
   "cell_type": "code",
   "execution_count": 11,
   "id": "52c7d757-2ecc-4a46-b730-4ddb9aa875bc",
   "metadata": {},
   "outputs": [
    {
     "name": "stdout",
     "output_type": "stream",
     "text": [
      "[[20 14 99 78]\n",
      " [31 75 61 30]\n",
      " [55 43 93 18]]\n"
     ]
    }
   ],
   "source": [
    "matrix = np.random.randint(0, 100, 12).reshape(3, 4)\n",
    "print(matrix)"
   ]
  },
  {
   "cell_type": "code",
   "execution_count": 47,
   "id": "3168e42a-3853-4232-9158-7caa9ac939bf",
   "metadata": {},
   "outputs": [
    {
     "name": "stdout",
     "output_type": "stream",
     "text": [
      "[[14 18 20 30]\n",
      " [31 43 55 61]\n",
      " [75 78 93 99]]\n"
     ]
    }
   ],
   "source": [
    "sorted_matrix = get_sorted_matrix(matrix)\n",
    "sorted_based_colunm = sorted_based_column(matrix)\n",
    "sorted_based_max = sort_based_max(matrix)\n",
    "sorted_based_val = sort_based_value(matrix)\n",
    "print(sorted_based_val)"
   ]
  },
  {
   "cell_type": "markdown",
   "id": "d39a2e7c-1f1d-4cd9-b1e7-621a025e1f57",
   "metadata": {},
   "source": [
    "### `Q-2:` There is an array of marks of 5 students in 4 subjects. Further you are asked to perform below task.\n",
    "    i. Add marks every student of an extra subject in the same array.\n",
    "    ii. Add two new students marks in respective 5 subjects.(one subject added in above task)\n",
    "    iii. Add extra column with sum of all subjects(5-subjects) marks\n",
    "    iv. Sort the array(non-ascending order) on total marks column--one added in above task. Show top 2 rows.\n",
    "\n",
    "Note: Change dimension of arrays during concatenation or appending if required."
   ]
  },
  {
   "cell_type": "code",
   "execution_count": 113,
   "id": "b52cbbf3-1c8a-4936-84a5-e5d5d04d4ddc",
   "metadata": {},
   "outputs": [],
   "source": [
    "def add_subject_marks(marks): \n",
    "    new_marks = np.array([85, 80, 90, 75, 90]).reshape(marks.shape[0], 1)\n",
    "    return np.append(marks, new_marks, axis = 1)\n",
    "\n",
    "def add_two_student(marks): \n",
    "    new_marks = np.arange(80, 90).reshape(2, marks.shape[1])\n",
    "    return np.append(marks, new_marks, axis = 0)\n",
    "\n",
    "def add_total_sum_col(marks): \n",
    "\n",
    "    rowwise_sum = np.sum(marks, axis = 1).reshape(marks.shape[0], 1)\n",
    "    # print(rowwise_sum)\n",
    "    return np.append(marks, rowwise_sum, axis = 1)\n",
    "\n",
    "# Sort the array(non-ascending order) \n",
    "def sort_array(marks): \n",
    "    # print(np.argsort(marks[ : , len(new_marks[0])])) \n",
    "    reverse_indices = np.argsort(marks[ : , len(new_marks[0])])[ : : -1] \n",
    "    # print(reverse_indices)\n",
    "\n",
    "    return marks[reverse_indices[[0, 1]]]"
   ]
  },
  {
   "cell_type": "code",
   "execution_count": 116,
   "id": "5c07d832-3aea-460e-a3a9-9e199c6d340b",
   "metadata": {},
   "outputs": [
    {
     "name": "stdout",
     "output_type": "stream",
     "text": [
      "[[90 91 92 93 85]\n",
      " [80 81 72 63 80]\n",
      " [60 94 91 53 90]\n",
      " [50 61 99 84 75]\n",
      " [90 91 92 90 90]]\n",
      "**\n",
      "[[90 91 92 93 85]\n",
      " [80 81 72 63 80]\n",
      " [60 94 91 53 90]\n",
      " [50 61 99 84 75]\n",
      " [90 91 92 90 90]\n",
      " [80 81 82 83 84]\n",
      " [85 86 87 88 89]]\n",
      "**\n",
      "[[90 91 92 93 85]\n",
      " [80 81 72 63 80]\n",
      " [60 94 91 53 90]\n",
      " [50 61 99 84 75]\n",
      " [90 91 92 90 90]\n",
      " [80 81 82 83 84]\n",
      " [85 86 87 88 89]]\n",
      "**\n",
      "[[ 90  91  92  90  90 453]\n",
      " [ 90  91  92  93  85 451]]\n"
     ]
    }
   ],
   "source": [
    "marks = np.array([\n",
    "                    [90, 91, 92, 93], \n",
    "                    [80, 81, 72, 63], \n",
    "                    [60, 94, 91, 53], \n",
    "                    [50, 61, 99, 84], \n",
    "                    [90, 91, 92, 90]\n",
    "                ])\n",
    "\n",
    "new_marks = add_subject_marks(marks)\n",
    "print(new_marks)\n",
    "print('**')\n",
    "new_marks = add_two_student(new_marks)\n",
    "print(new_marks)\n",
    "print('**')\n",
    "total_marks = add_total_sum_col(new_marks)\n",
    "print(new_marks)\n",
    "print('**')\n",
    "top_two_row = sort_array(total_marks)\n",
    "print(top_two_row)"
   ]
  },
  {
   "cell_type": "markdown",
   "id": "d3ccd315-67bb-4be6-bb6f-44b8ca9fd0d2",
   "metadata": {},
   "source": [
    "### `Q-3:` Find unique arrays from a 2D array column wise and row wise.\n",
    "```\n",
    "arr = np.array([[1,2,3,3,1,1],\n",
    "                [0,9,1,2,8,8],\n",
    "                [1,2,3,8,8,8],\n",
    "                [1,2,3,3,1,1]])\n",
    "\n",
    "```\n",
    "Expected Result-\n",
    "```\n",
    "Row Wise\n",
    "[[0 9 1 2 8 8]\n",
    " [1 2 3 3 1 1]\n",
    " [1 2 3 8 8 8]]\n",
    "\n",
    "Col Wise\n",
    "[[1 1 2 3 3]\n",
    " [0 8 9 1 2]\n",
    " [1 8 2 3 8]\n",
    " [1 1 2 3 3]]\n",
    "\n",
    "```"
   ]
  },
  {
   "cell_type": "code",
   "execution_count": 130,
   "id": "d6c930d8-cd11-49af-937a-bcf8dfe565b1",
   "metadata": {},
   "outputs": [],
   "source": [
    "def row_wise_unique(arr):\n",
    "    return np.unique(arr, axis=0) \n",
    "\n",
    "def col_wise_unique(arr):\n",
    "    return np.unique(arr, axis=1)\n",
    "    "
   ]
  },
  {
   "cell_type": "code",
   "execution_count": 137,
   "id": "48bc6919-41fa-4742-a55c-d50de6fc1635",
   "metadata": {},
   "outputs": [
    {
     "name": "stdout",
     "output_type": "stream",
     "text": [
      "Row-wise : \n",
      " [[0 9 1 2 8 8]\n",
      " [1 2 3 3 1 1]\n",
      " [1 2 3 8 8 8]]\n",
      "\n",
      "Column-wise : \n",
      " [[1 1 2 3 3]\n",
      " [0 8 9 1 2]\n",
      " [1 8 2 3 8]\n",
      " [1 1 2 3 3]]\n"
     ]
    }
   ],
   "source": [
    "arr = np.array([[1,2,3,3,1,1],\n",
    "                [0,9,1,2,8,8],\n",
    "                [1,2,3,8,8,8],\n",
    "                [1,2,3,3,1,1]]) \n",
    "\n",
    "print('Row-wise : \\n', row_wise_unique(arr))\n",
    "print()\n",
    "print('Column-wise : \\n', col_wise_unique(arr))"
   ]
  },
  {
   "cell_type": "markdown",
   "id": "2faf6c00-cd1d-4dcc-b502-bca0319d4835",
   "metadata": {},
   "source": [
    "### `Q-4:` Flip given 2-D array along both axes at the same time."
   ]
  },
  {
   "cell_type": "code",
   "execution_count": 145,
   "id": "afdb6ec3-93eb-45cf-8e66-828c7ccc9539",
   "metadata": {},
   "outputs": [
    {
     "data": {
      "text/plain": [
       "array([[90, 92, 91, 90],\n",
       "       [84, 99, 61, 50],\n",
       "       [53, 91, 94, 60],\n",
       "       [63, 72, 81, 80],\n",
       "       [93, 92, 91, 90]])"
      ]
     },
     "execution_count": 145,
     "metadata": {},
     "output_type": "execute_result"
    }
   ],
   "source": [
    "arr = np.array([\n",
    "                    [90, 91, 92, 93], \n",
    "                    [80, 81, 72, 63], \n",
    "                    [60, 94, 91, 53], \n",
    "                    [50, 61, 99, 84], \n",
    "                    [90, 91, 92, 90]\n",
    "                ])\n",
    "\n",
    "\n",
    "# it will do the flip on both the axis at the same time.\n",
    "np.flip(arr)\n"
   ]
  },
  {
   "cell_type": "markdown",
   "id": "0eb8f8ff-4ab3-4901-8bc3-6fe87ab4bdda",
   "metadata": {},
   "source": [
    "### `Q-5:` Get row numbers of NumPy array having element larger than X.\n",
    "```\n",
    "arr = [[1,2,3,4,5], \n",
    "      [10,-3,30,4,5], \n",
    "      [3,2,5,-4,5], \n",
    "      [9,7,3,6,5]] \n",
    "\n",
    "X = 6\n",
    "\n",
    "```"
   ]
  },
  {
   "cell_type": "code",
   "execution_count": 40,
   "id": "4530f83c-47ea-4dbd-b94d-57b13fb3c26f",
   "metadata": {},
   "outputs": [],
   "source": [
    "def get_max_row(arr, threshold): \n",
    "    \n",
    "    mask_array = np.any(arr > threshold, axis=1)\n",
    "    resulted_rows = np.where(mask_array == True)\n",
    "    # print(resulted_rows)\n",
    "    print(arr[np.any(arr > threshold, axis=1)])\n",
    "    return resulted_rows"
   ]
  },
  {
   "cell_type": "code",
   "execution_count": 41,
   "id": "b1c56057-bc30-4afb-8e04-b1f6f26948e7",
   "metadata": {},
   "outputs": [
    {
     "name": "stdout",
     "output_type": "stream",
     "text": [
      "[[10 -3 30  4  5]\n",
      " [ 9  7  3  6  5]]\n",
      "(array([1, 3]),)\n"
     ]
    }
   ],
   "source": [
    "arr = np.array([  [1,2,3,4,5], \n",
    "                  [10,-3,30,4,5], \n",
    "                  [3,2,5,-4,5], \n",
    "                  [9,7,3,6,5]\n",
    "               ])\n",
    "\n",
    "threshold = 6\n",
    "print(get_max_row(arr, threshold))"
   ]
  },
  {
   "cell_type": "markdown",
   "id": "3e6f12ac-e51f-4df5-b0f5-c579e85ae4ef",
   "metadata": {},
   "source": [
    "### `Q-6:` How to convert an array of arrays into a flat 1d array ?"
   ]
  },
  {
   "cell_type": "code",
   "execution_count": 51,
   "id": "ce0c3bc0-da28-4657-ae26-b9f6bbafd855",
   "metadata": {},
   "outputs": [],
   "source": [
    "def get_flat_array(arr): \n",
    "    return arr.flatten()"
   ]
  },
  {
   "cell_type": "code",
   "execution_count": 54,
   "id": "1f6318ea-4143-4b53-b4bb-f6a00a264591",
   "metadata": {},
   "outputs": [
    {
     "data": {
      "text/plain": [
       "array([1, 2, 3, 4, 5, 6, 7, 8])"
      ]
     },
     "execution_count": 54,
     "metadata": {},
     "output_type": "execute_result"
    }
   ],
   "source": [
    "# 2D array\n",
    "arr = np.array([  [1,2,3,4,5], \n",
    "                  [10,-3,30,4,5], \n",
    "                  [3,2,5,-4,5], \n",
    "                  [9,7,3,6,5]\n",
    "               ])\n",
    "# 3D array \n",
    "threeD_arr = np.array([[[1, 2], [3, 4]], [[5, 6], [7, 8]]])\n",
    "\n",
    "get_flat_array(threeD_arr)"
   ]
  },
  {
   "cell_type": "markdown",
   "id": "9282969a-c496-4144-811a-c68de016316f",
   "metadata": {},
   "source": [
    "### `Q-7:` You are given a array. You have to find the minimum and maximum array element and remove that from the array.\n",
    "\n",
    "```python\n",
    "import numpy as np\n",
    "\n",
    "np.random.seed(400)\n",
    "arr = np.random.randint(100, 1000, 200).reshape((1, 200))\n",
    "\n",
    "```"
   ]
  },
  {
   "cell_type": "code",
   "execution_count": 104,
   "id": "d2903cf7-c08f-4a8a-9b8c-d3e7d5f3fb9d",
   "metadata": {},
   "outputs": [],
   "source": [
    "import numpy as np \n",
    "\n",
    "def remove_max_min(arr): \n",
    "    \n",
    "    max_element_idx = np.argmax(arr)\n",
    "    min_element_idx = np.argmin(arr)\n",
    "    # print(max_element_idx, min_element_idx)\n",
    "    print(arr.shape)\n",
    "    return np.delete(arr, [min_element_idx, max_element_idx]).reshape(arr.shape[0], arr.shape[1] - 2)"
   ]
  },
  {
   "cell_type": "code",
   "execution_count": 105,
   "id": "353d9410-e261-42f4-893c-82fd5c403b42",
   "metadata": {},
   "outputs": [
    {
     "name": "stdout",
     "output_type": "stream",
     "text": [
      "(1, 200)\n",
      "(1, 198)\n"
     ]
    }
   ],
   "source": [
    "# seed function fix the values it will be same on every execution. \n",
    "np.random.seed(400)\n",
    "arr = np.random.randint(100, 1000, 200).reshape(1, 200)\n",
    "resulted_array = remove_max_min(arr)\n",
    "# print(resulted_array) \n",
    "print(resulted_array.shape)"
   ]
  },
  {
   "cell_type": "markdown",
   "id": "8eb8f23a-0dc0-4f7a-8666-ed4840dd22d0",
   "metadata": {},
   "source": [
    "### `Q-8:` You are given an arrays. You have to limit this array's elements between 100 to 200. $arr ∈ [100, 700]$. So replace those values accordingly with the minimum and maximum value. Then sort the array and perform the cumulative sum of that array."
   ]
  },
  {
   "cell_type": "code",
   "execution_count": 130,
   "id": "01b00053-61e9-471d-aa5b-c09c671d079d",
   "metadata": {},
   "outputs": [],
   "source": [
    "def limit_values(arr): \n",
    "\n",
    "    limit_value_array = np.clip(arr, min=100, max=200)\n",
    "    # print(limit_value_array)\n",
    "\n",
    "    sorted_array = np.sort(limit_value_array)\n",
    "    # print(sorted_array) \n",
    "\n",
    "    cum_sum_array = np.cumsum(sorted_array)\n",
    "\n",
    "    return cum_sum_array"
   ]
  },
  {
   "cell_type": "code",
   "execution_count": 131,
   "id": "bbafb3d9-a685-4f41-b4f7-15b8c1b349dd",
   "metadata": {},
   "outputs": [
    {
     "name": "stdout",
     "output_type": "stream",
     "text": [
      "[ 120  291  478  677  877 1077 1277 1477 1677 1877 2077 2277 2477 2677\n",
      " 2877 3077 3277 3477 3677 3877]\n"
     ]
    }
   ],
   "source": [
    "np.random.seed(42)\n",
    "arr = np.random.randint(100, 701, 20)\n",
    "\n",
    "resulted_array = limit_values(arr)\n",
    "print(resulted_array)"
   ]
  },
  {
   "cell_type": "markdown",
   "id": "cd9edadc-107f-4359-8695-a391e4c7b442",
   "metadata": {},
   "source": [
    "### `Q-9:` You are given a array ($arr ∈ [0, 1]$). First you have round off the elements upto 3 decimal places and compare that\n",
    "- 0th percentile == minimum value of the array\n",
    "- 100th percentile == maximum value of the array\n",
    "- also find the difference betwen 51th percenile and 50th percentile values"
   ]
  },
  {
   "cell_type": "code",
   "execution_count": 176,
   "id": "fbd96f29-59ad-4026-86e0-3ab3b53c816c",
   "metadata": {},
   "outputs": [],
   "source": [
    "def compare_values(arr): \n",
    "    \n",
    "    rounded_values = np.round(arr, 3)\n",
    "\n",
    "    zero_percentile = np.percentile(rounded_values, 0)\n",
    "    hundred_percentile = np.percentile(rounded_values, 100)\n",
    "    # print(zero_percentile, hundred_percentile)\n",
    "    if zero_percentile == np.min(arr):\n",
    "        print('Zero percentile is equal to min values')\n",
    "    else:\n",
    "        print('Zero percentile is not equal to min values')\n",
    "\n",
    "    if hundred_percentile == np.max(arr):\n",
    "        print('Hundred percentile is equal to min values')\n",
    "    else:\n",
    "        print('Hundred percentile is not equal to min values')\n",
    "\n",
    "    diff = np.percentile(rounded_values, 51) - np.percentile(rounded_values, 50)\n",
    "    print('Difference between 51th percenile and 50th percentile values : ', diff)"
   ]
  },
  {
   "cell_type": "code",
   "execution_count": 177,
   "id": "08ff2c1f-328e-43a8-8027-d5b27919a6bc",
   "metadata": {},
   "outputs": [
    {
     "name": "stdout",
     "output_type": "stream",
     "text": [
      "Zero percentile is not equal to min values\n",
      "Hundred percentile is not equal to min values\n",
      "Difference between 51th percenile and 50th percentile values :  0.00019000000000002348\n"
     ]
    }
   ],
   "source": [
    "arr = np.random.random(20)\n",
    "# print(arr)\n",
    "compare_values(arr)"
   ]
  },
  {
   "cell_type": "code",
   "execution_count": null,
   "id": "7c7265d6-0d71-4302-887f-fb2615049053",
   "metadata": {},
   "outputs": [],
   "source": []
  }
 ],
 "metadata": {
  "kernelspec": {
   "display_name": "Python 3 (ipykernel)",
   "language": "python",
   "name": "python3"
  },
  "language_info": {
   "codemirror_mode": {
    "name": "ipython",
    "version": 3
   },
   "file_extension": ".py",
   "mimetype": "text/x-python",
   "name": "python",
   "nbconvert_exporter": "python",
   "pygments_lexer": "ipython3",
   "version": "3.13.1"
  }
 },
 "nbformat": 4,
 "nbformat_minor": 5
}
